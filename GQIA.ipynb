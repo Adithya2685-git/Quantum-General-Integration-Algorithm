{
 "cells": [
  {
   "cell_type": "code",
   "execution_count": null,
   "id": "7621b0bd",
   "metadata": {},
   "outputs": [
    {
     "name": "stdout",
     "output_type": "stream",
     "text": [
      "We are using the aer_simulator quantum computer\n"
     ]
    }
   ],
   "source": [
    "import sympy\n",
    "from sympy.parsing.sympy_parser import (parse_expr, standard_transformations,\n",
    "                                        implicit_multiplication_application,convert_xor)\n",
    "from IPython.display import display\n",
    "sympy.init_printing(use_latex='mathjax')\n",
    "import numpy as np\n",
    "np.set_printoptions(suppress=True)\n",
    "from qiskit import ClassicalRegister, QuantumRegister, QuantumCircuit, generate_preset_pass_manager, transpile\n",
    "from qiskit_ibm_runtime import SamplerV2 as Sampler, EstimatorV2 as Estimator, QiskitRuntimeService\n",
    "from qiskit_aer import AerSimulator\n",
    "import matplotlib.pyplot as plt\n",
    "from sympy.functions.special.polynomials import chebyshevt\n",
    "from scipy.stats import norm\n",
    "from qiskit.circuit.library import PolynomialPauliRotations\n",
    "from qiskit.visualization import plot_histogram\n",
    "from qiskit_algorithms import IterativeAmplitudeEstimation,EstimationProblem"
   ]
  },
  {
   "cell_type": "code",
   "execution_count": null,
   "id": "9b5d49bf",
   "metadata": {},
   "outputs": [],
   "source": [
    "service = QiskitRuntimeService(name=\"qiskit_adi\")\n",
    "# Get a backend\n",
    "backend = AerSimulator()\n",
    "#backend = service.least_busy(operational=True, simulator=False)\n",
    "#backend= service.backend(name='ibm_torino')\n",
    "print(f\"We are using the {backend.name} quantum computer\")\n",
    "sampler = Sampler(mode=backend)\n",
    "\n",
    "# Submit the circuit to Sampler\n",
    "pm = generate_preset_pass_manager(backend=backend, optimization_level=3)"
   ]
  },
  {
   "cell_type": "code",
   "execution_count": 43,
   "id": "68bd74d2",
   "metadata": {},
   "outputs": [
    {
     "name": "stdout",
     "output_type": "stream",
     "text": [
      "\n",
      "Entered definite integral Mathematical expression:\n"
     ]
    },
    {
     "data": {
      "text/latex": [
       "$\\displaystyle \\int\\limits_{0}^{9} x^{2}\\, dx$"
      ],
      "text/plain": [
       "9      \n",
       "⌠      \n",
       "⎮  2   \n",
       "⎮ x  dx\n",
       "⌡      \n",
       "0      "
      ]
     },
     "metadata": {},
     "output_type": "display_data"
    }
   ],
   "source": [
    "try:\n",
    "    # Input\n",
    "    func_str = input(\"Enter the function to integrate (e.g., sin(x) * exp(-x)): \")\n",
    "    lower_limit_str = input(\"Enter the lower limit of integration (e.g., 0): \")\n",
    "    upper_limit_str = input(\"Enter the upper limit of integration (e.g., pi): \")\n",
    "\n",
    "    # Define the symbols\n",
    "    x = sympy.symbols('x', real=True)\n",
    "    expected_symbols = {x}\n",
    "\n",
    "    # Parse the Function String\n",
    "    local_dict = {'x': x}\n",
    "    global_dict = sympy.__dict__\n",
    "    transformations = standard_transformations + (implicit_multiplication_application, convert_xor)\n",
    "    func_expr = parse_expr(func_str,\n",
    "                           local_dict=local_dict,\n",
    "                           global_dict=global_dict,\n",
    "                           transformations=transformations)\n",
    "\n",
    "    # VALIDATE\n",
    "    found_symbols = func_expr.free_symbols\n",
    "    if not found_symbols.issubset(expected_symbols):\n",
    "        unknown_symbols = found_symbols - expected_symbols\n",
    "        raise ValueError(f\"Function contains unknown variables: {unknown_symbols}. \"\n",
    "                         f\"The expression must only depend on 'x'.\")\n",
    "\n",
    "    # --- Finalize Inputs ---\n",
    "    lower_limit = sympy.sympify(lower_limit_str)\n",
    "    upper_limit = sympy.sympify(upper_limit_str)\n",
    "\n",
    "    func = sympy.simplify(func_expr)\n",
    "    \n",
    "    # --- Display the problem ---\n",
    "    integral_expr = sympy.Integral(func, (x, lower_limit, upper_limit))\n",
    "    print(\"\\nEntered definite integral Mathematical expression:\")\n",
    "    display(integral_expr)\n",
    "\n",
    "    # Convert limits to floats to prevent constants parsing errors\n",
    "    try:\n",
    "        lower_limit_f = float(lower_limit)\n",
    "        upper_limit_f = float(upper_limit)\n",
    "    except TypeError:\n",
    "        lower_limit_f = float(lower_limit.evalf())\n",
    "        upper_limit_f = float(upper_limit.evalf())\n",
    "\n",
    "    lower_limit=lower_limit_f\n",
    "    upper_limit= upper_limit_f\n",
    "except Exception as e:\n",
    "    print(f\"\\nError: Could not process the input. Please check the expression. \\nDetails: {e}\")"
   ]
  },
  {
   "cell_type": "code",
   "execution_count": 3,
   "id": "68023ddf",
   "metadata": {},
   "outputs": [],
   "source": [
    "def getChebyshevPolynomial( sympy_symbol,sympy_func ,degree, lower_limit, upper_limit):\n",
    "    \"\"\"\n",
    "    Generates a high-quality Chebyshev polynomial approximation for a given SymPy function\n",
    "    using NumPy's fitting method.\n",
    "    This is the ideal method because Taylor's approximation requires O(d^2) oracle calls.\n",
    "    Chebyshev approximation also uniformly distributes the error in the range making it ideal for this scenario.\n",
    "    \"\"\"\n",
    "    print(f\"Chebyshev Approximation to {degree}th degree:\\n\")\n",
    "\n",
    "    # 1. Callable numerical version of the function \"Oracle\"\n",
    "    f_numeric = sympy.lambdify(sympy_symbol, sympy_func, 'numpy')\n",
    "\n",
    "    # 2. Define the coordinate transformation from [lower_limit, upper_limit] to [-1, 1]\n",
    "    jac_scaling = (upper_limit - lower_limit) / 2.0\n",
    "    offset = (upper_limit + lower_limit) / 2.0\n",
    "    \n",
    "    # This is f(x) re-parameterized in terms of y. This is the function we will approximate.\n",
    "    func_to_approximate = lambda y_val: f_numeric(jac_scaling * y_val + offset)\n",
    "\n",
    "    # 3. Generate sample points and query the oracle to get data for fitting\n",
    "    # For a degree `d` polynomial, we need at least `d+1` points. 2*degree is ideal\n",
    "    num_samples = 2 * degree\n",
    "    sample_points_y = np.linspace(-1, 1, num_samples)\n",
    "    sample_values_f = func_to_approximate(sample_points_y)\n",
    "\n",
    "    # 4. Use NumPy to fit the Chebyshev polynomial to the sampled data\n",
    "    cheb_poly_fit = np.polynomial.chebyshev.Chebyshev.fit(\n",
    "        sample_points_y,\n",
    "        sample_values_f,\n",
    "        deg=degree\n",
    "    )\n",
    "    \n",
    "    # The coefficients are ordered from T_0 to T_d\n",
    "    coeffs = cheb_poly_fit.convert().coef\n",
    "    print(f\"Found {len(coeffs)} coefficients.\")\n",
    "\n",
    "    # 5. Calculate the scaling factor M = max(|f(x)|)\n",
    "    # We find the max value by evaluating our new high-quality approximation on a fine grid.\n",
    "    fine_grid_y = np.linspace(-1, 1, 1000)\n",
    "    interpolation_f =(cheb_poly_fit(fine_grid_y))\n",
    "    m= np.min(interpolation_f)\n",
    "    M = np.max(interpolation_f)\n",
    "    print(f\"M value for scaling is: {M:.4f}\")\n",
    "\n",
    "    # 6. Reconstruct a SymPy expression for display and symbolic integration\n",
    "    # The polynomial for the integral must approximate g(y) = f(x) * jac_scaling\n",
    "    y_sym = sympy.Symbol('y')\n",
    "    chebyshev_sympy_f = sum(coeffs[i] * chebyshevt(i, y_sym) for i in range(len(coeffs)))\n",
    "    chebyshev_sympy_g = jac_scaling * chebyshev_sympy_f\n",
    "\n",
    "    integration_expr = sympy.Integral(chebyshev_sympy_g, (y_sym, -1, 1))\n",
    "    print(\"\\nApproximated Integral (Chebyshev Polynomial on [-1, 1]):\")\n",
    "    display(integration_expr)\n",
    "    \n",
    "    # 7. New: Explicitly check the endpoint error to verify the quality\n",
    "    true_val_at_endpoint = func_to_approximate(1.0) # This is f(upper_limit)\n",
    "    approx_val_at_endpoint = cheb_poly_fit(1.0)\n",
    "    abs_error = np.abs(true_val_at_endpoint - approx_val_at_endpoint)\n",
    "    \n",
    "    print(f\"\\nError analysis at endpoint y=1 (x={upper_limit}):\")\n",
    "    print(f\"  - True value of f({upper_limit}) = {true_val_at_endpoint:.8f}\")\n",
    "    print(f\"  - Approx value from poly = {approx_val_at_endpoint:.8f}\")\n",
    "    print(f\"  - Absolute Error = {abs_error:.2e}\")\n",
    "\n",
    "    return coeffs,m ,M, chebyshev_sympy_g"
   ]
  },
  {
   "cell_type": "code",
   "execution_count": 4,
   "id": "dc34dc03",
   "metadata": {},
   "outputs": [],
   "source": [
    "def extract_quantum_coefficients(coeffs, m, M, n_qubits):\n",
    "    \"\"\"\n",
    "    Extract coefficients for quantum state preparation from Chebyshev approximation.\n",
    "    \n",
    "    Parameters:\n",
    "    -----------\n",
    "    coeffs : array-like\n",
    "        Chebyshev polynomial coefficients from your approximation\n",
    "    m : float\n",
    "        Minimum value of the function\n",
    "    M : float\n",
    "        Maximum value of the function\n",
    "    n_qubits : int\n",
    "        Number of qubits for the quantum state\n",
    "    \n",
    "    Returns:\n",
    "    --------\n",
    "    theta_coeffs : list\n",
    "        Coefficients for θ(i) polynomial where i ∈ [0, 2^n - 1]\n",
    "    scaling_info : dict\n",
    "        Information about the scaling applied\n",
    "    \"\"\"\n",
    "    \n",
    "    # Number of basis states\n",
    "    N = 2**n_qubits\n",
    "    \n",
    "    # Step 1: Scale the Chebyshev polynomial to have range [0, 1]\n",
    "    # If f(x) has range [m, M], then (f(x) - m)/(M - m) has range [0, 1]\n",
    "    range_scale = M - m\n",
    "    if range_scale == 0:\n",
    "        raise ValueError(\"Function has constant value, cannot scale\")\n",
    "    \n",
    "    # Adjust coefficients for the vertical scaling\n",
    "    # The constant term needs special handling\n",
    "    scaled_coeffs = coeffs.copy()\n",
    "    scaled_coeffs[0] = (coeffs[0] - m) / range_scale\n",
    "    for i in range(1, len(coeffs)):\n",
    "        scaled_coeffs[i] = coeffs[i] / range_scale\n",
    "    \n",
    "    print(f\"Scaling from range [{m:.4f}, {M:.4f}] to [0, 1]\")\n",
    "    print(f\"Scaled Chebyshev coefficients: {scaled_coeffs[:5]}...\")  # Show first 5\n",
    "    \n",
    "    # Step 2: Convert from Chebyshev basis to standard polynomial basis\n",
    "    # We need to express the polynomial in terms of i where i ∈ [0, N-1]\n",
    "    # First, map i → y where y ∈ [-1, 1]: y = 2*i/(N-1) - 1\n",
    "    \n",
    "    # Create symbolic variable\n",
    "    i_sym = sympy.symbols('i')\n",
    "    y_sym = 2*i_sym/(N-1) - 1\n",
    "    \n",
    "    # Build the Chebyshev polynomial in terms of i\n",
    "    poly_expr = sum(scaled_coeffs[k] * chebyshevt(k, y_sym) for k in range(len(scaled_coeffs)))\n",
    "    \n",
    "    # Expand to get standard polynomial coefficients\n",
    "    poly_expanded = sympy.expand(poly_expr)\n",
    "    poly_collected = sympy.collect(poly_expanded, i_sym)\n",
    "    \n",
    "    # Extract coefficients of powers of i\n",
    "    degree = len(scaled_coeffs) - 1\n",
    "    theta_coeffs = []\n",
    "    \n",
    "    for power in range(degree + 1):\n",
    "        coeff = poly_collected.coeff(i_sym, power)\n",
    "        if coeff is None:\n",
    "            theta_coeffs.append(0.0)\n",
    "        else:\n",
    "            theta_coeffs.append(float(coeff))\n",
    "    \n",
    "    print(f\"\\nExtracted polynomial coefficients for θ(i):\")\n",
    "    print(f\"Degree: {degree}\")\n",
    "    print(f\"First few coefficients: {theta_coeffs[:min(5, len(theta_coeffs))]}\")\n",
    "    \n",
    "    # Step 3: Verification (optional but recommended)\n",
    "    # Check a few sample points to ensure correctness\n",
    "    print(\"\\nVerification at sample points:\")\n",
    "    sample_indices = [0, N//4, N//2, 3*N//4, N-1]\n",
    "    \n",
    "    # Create numerical function for θ(i)\n",
    "    theta_func = lambda idx: sum(theta_coeffs[k] * idx**k for k in range(len(theta_coeffs)))\n",
    "    \n",
    "    for idx in sample_indices[:3]:  # Check first 3 samples\n",
    "        y_val = 2*idx/(N-1) - 1\n",
    "        # Evaluate original scaled Chebyshev at this point\n",
    "        cheby_val = sum(scaled_coeffs[k] * float(chebyshevt(k, y_val).evalf()) \n",
    "                       for k in range(len(scaled_coeffs)))\n",
    "        poly_val = theta_func(idx)\n",
    "        print(f\"  i={idx}: Chebyshev={cheby_val:.6f}, Polynomial={poly_val:.6f}, \"\n",
    "              f\"Error={abs(cheby_val - poly_val):.2e}\")\n",
    "    \n",
    "    # Step 4: Prepare for quantum circuit\n",
    "    # For PolynomialPauliRotations, we need rotation angles\n",
    "    # The rotation angle is 2*arcsin(sqrt(amplitude))\n",
    "    # So we need θ(i) such that amplitude_i = sin²(θ(i)/2)\n",
    "    \n",
    "    # Therefore, θ(i) = 2*arcsin(sqrt(f_scaled(i)))\n",
    "    # This requires another transformation if you want direct amplitude encoding\n",
    "    \n",
    "    scaling_info = {\n",
    "        'original_range': (m, M),\n",
    "        'scaled_range': (0, 1),\n",
    "        'n_qubits': n_qubits,\n",
    "        'n_states': N,\n",
    "        'degree': degree,\n",
    "        'domain_mapping': 'i ∈ [0, 2^n - 1] → y ∈ [-1, 1]'\n",
    "    }\n",
    "    \n",
    "    return theta_coeffs, scaling_info"
   ]
  },
  {
   "cell_type": "code",
   "execution_count": 5,
   "id": "aa6afe55",
   "metadata": {},
   "outputs": [],
   "source": [
    "def get_rotation_polynomial(scaled_poly_coeffs, n_qubits, degree):\n",
    "    \"\"\"\n",
    "    Approximates the angle function 2*arcsin(sqrt(p(i))) with a new polynomial.\n",
    "    \"\"\"\n",
    "    N = 2**n_qubits\n",
    "    \n",
    "    # 1. Create a callable function for the scaled polynomial p_scaled(i)\n",
    "    p_scaled = np.polynomial.Polynomial(scaled_poly_coeffs)\n",
    "\n",
    "    # 2. Define the target angle function h(i)\n",
    "    def h(i):\n",
    "        val = p_scaled(i)\n",
    "        val = np.clip(val, 0, 1) # Ensure value is in the valid domain for sqrt\n",
    "        return 2 * np.arcsin(np.sqrt(val))\n",
    "\n",
    "    # 3. Approximate h(i) with a new polynomial p_rot(i)\n",
    "    #    (Using the logic from your getChebyshevPolynomial function)\n",
    "    \n",
    "    # a. Sample h(i) at Chebyshev nodes over the domain [0, N-1]\n",
    "    #    Map [0, N-1] to [-1, 1] for sampling\n",
    "    y_nodes = np.polynomial.chebyshev.chebpts1(2 * degree)\n",
    "    i_nodes = 0.5 * (y_nodes + 1) * (N - 1)\n",
    "    \n",
    "    h_values = h(i_nodes)\n",
    "    \n",
    "    # b. Fit a new Chebyshev polynomial to these samples\n",
    "    cheb_fit_rot = np.polynomial.chebyshev.Chebyshev.fit(y_nodes, h_values, deg=degree)\n",
    "    \n",
    "    # c. Convert the fit to a power polynomial for the domain [0, N-1]\n",
    "    #    This requires the symbolic change-of-variables step you already wrote!\n",
    "    i_sym = sympy.symbols('i')\n",
    "    y_sym_map = 2*i_sym/(N-1) - 1\n",
    "    \n",
    "    # Reconstruct cheb series in sympy and substitute\n",
    "    poly_expr = sum(cheb_fit_rot.coef[k] * sympy.chebyshevt(k, y_sym_map) for k in range(degree + 1))\n",
    "    expanded_poly = sympy.expand(poly_expr)\n",
    "    \n",
    "    p_rot = sympy.Poly(expanded_poly, i_sym)\n",
    "    p_rot_coeffs = [float(c) for c in p_rot.all_coeffs()]\n",
    "    p_rot_coeffs.reverse() # Ensure lowest degree is first\n",
    "\n",
    "    return p_rot_coeffs"
   ]
  },
  {
   "cell_type": "code",
   "execution_count": 13,
   "id": "c538b70b",
   "metadata": {},
   "outputs": [],
   "source": [
    "# Degree of Approximation\n",
    "d= 10\n",
    "num_qubits=10\n",
    "N=2**num_qubits"
   ]
  },
  {
   "cell_type": "code",
   "execution_count": 44,
   "id": "ae9cc48c",
   "metadata": {},
   "outputs": [
    {
     "name": "stdout",
     "output_type": "stream",
     "text": [
      "Chebyshev Approximation to 14th degree:\n",
      "\n",
      "Found 15 coefficients.\n",
      "M value for scaling is: 81.0000\n",
      "\n",
      "Approximated Integral (Chebyshev Polynomial on [-1, 1]):\n"
     ]
    },
    {
     "data": {
      "text/latex": [
       "$\\displaystyle \\int\\limits_{-1}^{1} \\left(1.38113290002224 \\cdot 10^{-10} y^{14} - 3.35283599956539 \\cdot 10^{-10} y^{13} - 3.62760900084677 \\cdot 10^{-10} y^{12} + 1.11562720383007 \\cdot 10^{-9} y^{11} + 3.06961528840296 \\cdot 10^{-10} y^{10} - 1.43670194576078 \\cdot 10^{-9} y^{9} - 5.60143452611314 \\cdot 10^{-11} y^{8} + 8.9588033871866 \\cdot 10^{-10} y^{7} - 4.44201915017227 \\cdot 10^{-11} y^{6} - 2.76054551783758 \\cdot 10^{-10} y^{5} + 2.04957667558459 \\cdot 10^{-11} y^{4} + 3.89070352397386 \\cdot 10^{-11} y^{3} + 91.1249999999976 y^{2} + 182.249999999998 y + 91.125\\right)\\, dy$"
      ],
      "text/plain": [
       "1                                                                              ↪\n",
       "⌠                                                                              ↪\n",
       "⎮  ⎛                      14                         13                        ↪\n",
       "⎮  ⎝1.38113290002224e-10⋅y   - 3.35283599956539e-10⋅y   - 3.62760900084677e-10 ↪\n",
       "⌡                                                                              ↪\n",
       "-1                                                                             ↪\n",
       "\n",
       "↪                                                                              ↪\n",
       "↪                                                                              ↪\n",
       "↪   12                        11                         10                    ↪\n",
       "↪ ⋅y   + 1.11562720383007e-9⋅y   + 3.06961528840296e-10⋅y   - 1.43670194576078 ↪\n",
       "↪                                                                              ↪\n",
       "↪                                                                              ↪\n",
       "\n",
       "↪                                                                              ↪\n",
       "↪                                                                              ↪\n",
       "↪      9                         8                        7                    ↪\n",
       "↪ e-9⋅y  - 5.60143452611314e-11⋅y  + 8.9588033871866e-10⋅y  - 4.44201915017227 ↪\n",
       "↪                                                                              ↪\n",
       "↪                                                                              ↪\n",
       "\n",
       "↪                                                                              ↪\n",
       "↪                                                                              ↪\n",
       "↪       6                         5                         4                  ↪\n",
       "↪ e-11⋅y  - 2.76054551783758e-10⋅y  + 2.04957667558459e-11⋅y  + 3.890703523973 ↪\n",
       "↪                                                                              ↪\n",
       "↪                                                                              ↪\n",
       "\n",
       "↪                                                                  \n",
       "↪                                                                  \n",
       "↪         3                     2                              ⎞   \n",
       "↪ 86e-11⋅y  + 91.1249999999976⋅y  + 182.249999999998⋅y + 91.125⎠ dy\n",
       "↪                                                                  \n",
       "↪                                                                  "
      ]
     },
     "metadata": {},
     "output_type": "display_data"
    },
    {
     "name": "stdout",
     "output_type": "stream",
     "text": [
      "\n",
      "Error analysis at endpoint y=1 (x=9.0):\n",
      "  - True value of f(9.0) = 81.00000000\n",
      "  - Approx value from poly = 81.00000000\n",
      "  - Absolute Error = 0.00e+00\n",
      "Scaling from range [-0.0000, 81.0000] to [0, 1]\n",
      "Scaled Chebyshev coefficients: [ 0.375  0.5    0.125  0.    -0.   ]...\n",
      "\n",
      "Extracted polynomial coefficients for θ(i):\n",
      "Degree: 14\n",
      "First few coefficients: [9.063019797097049e-17, -1.3054782614259887e-16, 9.555396936036608e-07, -1.4800188808991613e-19, 1.6512491296701975e-21]\n",
      "\n",
      "Verification at sample points:\n",
      "  i=0: Chebyshev=0.000000, Polynomial=0.000000, Error=4.32e-17\n",
      "  i=256: Chebyshev=0.062622, Polynomial=0.062622, Error=1.39e-17\n",
      "  i=512: Chebyshev=0.250489, Polynomial=0.250489, Error=0.00e+00\n"
     ]
    }
   ],
   "source": [
    "# Plot an unscaled approximated polyomial to show that the approximated graph is very close to the original.\n",
    "# Also Plot the |f(x)-P(x)| graph to show that the error is uniformly distributed.\n",
    "### NOTE: Here g(y) is returned. g(y)= f(x)* jac_scaling.  f(x)= g(y)/jac_scaling\n",
    "#  jac_scaling=(upper-lower)/2\n",
    "# Thi existing code\n",
    "coeffs, m, M, chebyshev_Polynomial = getChebyshevPolynomial(x, func,14, lower_limit, upper_limit)\n",
    "\n",
    "theta_coeffs, scaling_info = extract_quantum_coefficients(coeffs, m, M, num_qubits)\n",
    "final_qiskit_coeffs = get_rotation_polynomial(theta_coeffs, num_qubits, d)\n",
    "\n"
   ]
  },
  {
   "cell_type": "code",
   "execution_count": 45,
   "id": "2af2aee2",
   "metadata": {},
   "outputs": [
    {
     "name": "stdout",
     "output_type": "stream",
     "text": [
      "Final qiskit coeffs:\n",
      "[0.00543062087962376, 0.0012780409984960994, 2.5009923914555963e-05, -3.4897654340732046e-07, 2.441302019978558e-09, -9.714258270049026e-12, 2.338567409826832e-14, -3.467585278020812e-17, 3.0952715921031334e-20, -1.5249139545676948e-23, 3.1849525832700482e-27]\n",
      "11\n"
     ]
    }
   ],
   "source": [
    "print(\"Final qiskit coeffs:\")\n",
    "print(final_qiskit_coeffs)\n",
    "print(len(final_qiskit_coeffs))"
   ]
  },
  {
   "cell_type": "code",
   "execution_count": null,
   "id": "a7a95a95",
   "metadata": {},
   "outputs": [],
   "source": [
    "# Discretize func_expr\n",
    "def GenerateSamples(f_callable,lower_limit, upper_limit,N):\n",
    "    upper_limit= float(upper_limit)\n",
    "    lower_limit= float(lower_limit)\n",
    "    \n",
    "    #f_callable= sympy.lambdify(x, func, 'numpy')\n",
    "\n",
    "    # N random X points such that there are N random F(x).\n",
    "    x_array = np.random.uniform(lower_limit,upper_limit,N)\n",
    "    y_array= f_callable(x_array)\n",
    "   \n",
    "    return y_array,x_array "
   ]
  },
  {
   "cell_type": "code",
   "execution_count": null,
   "id": "6fabb3bd",
   "metadata": {},
   "outputs": [],
   "source": [
    "\n",
    "\n",
    "\n",
    "# Create a numerical version of the original function f(x).\n",
    "f_numerical = sympy.lambdify(x, func, 'numpy')\n",
    "jac_scaling = (upper_limit - lower_limit) / 2.0\n",
    "offset = (upper_limit + lower_limit) / 2.0\n",
    "f_ideal_callable = lambda y: f_numerical(jac_scaling * y + offset)\n",
    "\n",
    "y,x_array= GenerateSamples(f_ideal_callable,-1,1,N)\n",
    "\n",
    "\n",
    "g_numerical = sympy.lambdify(sympy.symbols('y',real=True),\n",
    "                              chebyshev_Polynomial, 'numpy')\n",
    "\n",
    "# gy_classical= f(x)/jac_scaling\n",
    "jac_scaling = (upper_limit - lower_limit) / 2.0\n",
    "y_classical= g_numerical(x_array)/jac_scaling"
   ]
  },
  {
   "cell_type": "code",
   "execution_count": 47,
   "id": "56fb66d7",
   "metadata": {},
   "outputs": [
    {
     "name": "stdout",
     "output_type": "stream",
     "text": [
      "Y Classical Array:\n",
      "[29.27167606 17.55978893  9.81425863 ... 30.41891054 57.32922165\n",
      " 49.01113486]\n",
      "\n",
      "Classical Integration Answer:\n",
      "243.17374850134604\n"
     ]
    }
   ],
   "source": [
    "def IntegrateClassical(y_classical,lower_limit,upper_limit,N):\n",
    "\n",
    "    total_sum= np.sum(y_classical)\n",
    "\n",
    "    # Average\n",
    "    answer=(total_sum/N)*((upper_limit-lower_limit))\n",
    "\n",
    "    print(\"Y Classical Array:\")\n",
    "    print(y_classical)\n",
    "\n",
    "\n",
    "    print(\"\\nClassical Integration Answer:\")\n",
    "    print(answer)\n",
    "    return\n",
    "\n",
    "IntegrateClassical(y_classical,lower_limit,upper_limit,N)\n"
   ]
  },
  {
   "cell_type": "markdown",
   "id": "b26d9336",
   "metadata": {},
   "source": [
    "The Original Function F_callable is assumed to be the ideal in N samples to show almost continuous function plot.\n",
    "\n",
    "Chebyshev_polynomial_expr is the approximated chebyshev polynomial from the original f(x)\n",
    "    This polynomial is approximated to the dth degree and N= 2**n samples.\n",
    "    The plots of this polynomial are in Green Color."
   ]
  },
  {
   "cell_type": "code",
   "execution_count": 48,
   "id": "316ac0ef",
   "metadata": {},
   "outputs": [
    {
     "data": {
      "image/png": "[encoded data removed]",
      "text/plain": [
       "<Figure size 640x480 with 1 Axes>"
      ]
     },
     "metadata": {},
     "output_type": "display_data"
    }
   ],
   "source": [
    "plt.xlabel(\"Domain Scaled x-axis\")\n",
    "plt.ylabel(\"y-axis\")\n",
    "plt.title(f\"Approximated to {d}th Degree\")\n",
    "plt.scatter(x_array,y_classical,\n",
    "             color='green', label='Classical Chebyshev',s=0.1)\n",
    "plt.scatter(x_array,y,\n",
    "            color='red',label='Target State', s=0.1)\n",
    "plt.grid(True)\n",
    "plt.legend()\n",
    "plt.show()"
   ]
  },
  {
   "cell_type": "code",
   "execution_count": 49,
   "id": "2177a40c",
   "metadata": {},
   "outputs": [
    {
     "data": {
      "image/png": "[encoded data removed]",
      "text/plain": [
       "<Figure size 640x480 with 1 Axes>"
      ]
     },
     "metadata": {},
     "output_type": "display_data"
    }
   ],
   "source": [
    "plt.xlabel(\"x-axis\")\n",
    "plt.ylabel(\"y-axis\")\n",
    "\n",
    "plt.title(f\"Error of {d}th Degree approximation\")\n",
    "plt.scatter(x_array,np.abs(y_classical-y),\n",
    "             color='green', label='Classical Chebyshev',s=0.1)\n",
    "plt.grid(True)\n",
    "plt.legend()\n",
    "plt.show()"
   ]
  },
  {
   "cell_type": "code",
   "execution_count": null,
   "id": "bb463df4",
   "metadata": {},
   "outputs": [],
   "source": [
    "# Prepare the oracle for loading basis states Coeffs.\n",
    "polyOracle = PolynomialPauliRotations(\n",
    "    num_state_qubits=num_qubits,\n",
    "    coeffs=final_qiskit_coeffs,\n",
    "    basis='Y',name='A_P(x)'\n",
    ")"
   ]
  },
  {
   "cell_type": "code",
   "execution_count": null,
   "id": "aab3d9a6",
   "metadata": {},
   "outputs": [
    {
     "ename": "NameError",
     "evalue": "name 'QuantumRegister' is not defined",
     "output_type": "error",
     "traceback": [
      "\u001b[1;31m---------------------------------------------------------------------------\u001b[0m",
      "\u001b[1;31mNameError\u001b[0m                                 Traceback (most recent call last)",
      "Cell \u001b[1;32mIn[1], line 1\u001b[0m\n\u001b[1;32m----> 1\u001b[0m Qbit\u001b[38;5;241m=\u001b[39m \u001b[43mQuantumRegister\u001b[49m(num_qubits\u001b[38;5;241m+\u001b[39m\u001b[38;5;241m1\u001b[39m,name\u001b[38;5;241m=\u001b[39m\u001b[38;5;124m'\u001b[39m\u001b[38;5;124mlogical\u001b[39m\u001b[38;5;124m'\u001b[39m)\n\u001b[0;32m      2\u001b[0m \u001b[38;5;66;03m#C_anc= ClassicalRegister(1,name='F_anc')\u001b[39;00m\n\u001b[0;32m      3\u001b[0m qc\u001b[38;5;241m=\u001b[39m QuantumCircuit(Qbit)\n",
      "\u001b[1;31mNameError\u001b[0m: name 'QuantumRegister' is not defined"
     ]
    }
   ],
   "source": [
    "Qbit= QuantumRegister(num_qubits+1,name='logical')\n",
    "#C_anc= ClassicalRegister(1,name='F_anc')\n",
    "qc= QuantumCircuit(Qbit)\n",
    "\n",
    "for i in range(num_qubits):\n",
    "    qc.h(Qbit[i])\n",
    "\n",
    "qc.append(polyOracle,Qbit)\n",
    "#qc.barrier(Qbit)        \n",
    "\n",
    "qc.draw(output='mpl')"
   ]
  },
  {
   "cell_type": "code",
   "execution_count": null,
   "id": "cf64d716",
   "metadata": {},
   "outputs": [],
   "source": [
    "def RunIQAE(qc,epsilon_target,alpha,num_qubits):\n",
    "\n",
    "    problem = EstimationProblem(\n",
    "        state_preparation=qc,\n",
    "        objective_qubits=[num_qubits]  # List of indices for ancilla qubits\n",
    "    )\n",
    "\n",
    "    iqae = IterativeAmplitudeEstimation(\n",
    "        epsilon_target=epsilon_target,\n",
    "        alpha=alpha,\n",
    "        sampler=sampler,\n",
    "        transpiler=pm\n",
    "    )\n",
    "\n",
    "    # Run the algorithm on the problem\n",
    "    result = iqae.estimate(problem)\n",
    "\n",
    "    return result"
   ]
  },
  {
   "cell_type": "code",
   "execution_count": null,
   "id": "5ef11872",
   "metadata": {},
   "outputs": [
    {
     "name": "stdout",
     "output_type": "stream",
     "text": [
      "--- Running Iterative Amplitude Estimation ---\n",
      "--------------------------------------------------\n",
      "--- IQAE Results ---\n",
      "Target Precision (epsilon): 0.01\n"
     ]
    },
    {
     "ename": "AttributeError",
     "evalue": "'IterativeAmplitudeEstimation' object has no attribute 'alpha'",
     "output_type": "error",
     "traceback": [
      "\u001b[1;31m---------------------------------------------------------------------------\u001b[0m",
      "\u001b[1;31mAttributeError\u001b[0m                            Traceback (most recent call last)",
      "Cell \u001b[1;32mIn[111], line 31\u001b[0m\n\u001b[0;32m     29\u001b[0m \u001b[38;5;28mprint\u001b[39m(\u001b[38;5;124m\"\u001b[39m\u001b[38;5;124m--- IQAE Results ---\u001b[39m\u001b[38;5;124m\"\u001b[39m)\n\u001b[0;32m     30\u001b[0m \u001b[38;5;28mprint\u001b[39m(\u001b[38;5;124mf\u001b[39m\u001b[38;5;124m\"\u001b[39m\u001b[38;5;124mTarget Precision (epsilon): \u001b[39m\u001b[38;5;132;01m{\u001b[39;00miqae\u001b[38;5;241m.\u001b[39mepsilon_target\u001b[38;5;132;01m}\u001b[39;00m\u001b[38;5;124m\"\u001b[39m)\n\u001b[1;32m---> 31\u001b[0m \u001b[38;5;28mprint\u001b[39m(\u001b[38;5;124mf\u001b[39m\u001b[38;5;124m\"\u001b[39m\u001b[38;5;124mConfidence Level (1 - alpha): \u001b[39m\u001b[38;5;132;01m{\u001b[39;00m\u001b[38;5;241m1\u001b[39m\u001b[38;5;250m \u001b[39m\u001b[38;5;241m-\u001b[39m\u001b[38;5;250m \u001b[39m\u001b[43miqae\u001b[49m\u001b[38;5;241;43m.\u001b[39;49m\u001b[43malpha\u001b[49m\u001b[38;5;132;01m}\u001b[39;00m\u001b[38;5;124m\"\u001b[39m)\n\u001b[0;32m     32\u001b[0m \u001b[38;5;28mprint\u001b[39m(\u001b[38;5;124m\"\u001b[39m\u001b[38;5;124m-\u001b[39m\u001b[38;5;124m\"\u001b[39m \u001b[38;5;241m*\u001b[39m \u001b[38;5;241m20\u001b[39m)\n\u001b[0;32m     33\u001b[0m \u001b[38;5;66;03m# The final estimated probability 'a'\u001b[39;00m\n",
      "\u001b[1;31mAttributeError\u001b[0m: 'IterativeAmplitudeEstimation' object has no attribute 'alpha'"
     ]
    }
   ],
   "source": [
    "# Set desired precision (epsilon) and confidence level (alpha).\n",
    "epsilon_target = 0.01  # Target precision (1% absolute error)\n",
    "alpha = 0.05           # Confidence level (1 - alpha = 95% confidence)\n",
    "\n",
    "# Run the algorithm on the problem\n",
    "print(\"--- Running Iterative Amplitude Estimation ---\")\n",
    "result = RunIQAE(qc,epsilon_target,alpha,num_qubits)\n",
    "\n",
    "\n",
    "print(\"-\" * 50)\n",
    "\n",
    "print(\"--- IQAE Results ---\")\n",
    "print(f\"Target Precision (epsilon): {epsilon_target}\")\n",
    "print(f\"Confidence Level (1 - alpha): {1 -alpha}\")\n",
    "print(\"-\" * 20)\n",
    "# The final estimated probability 'a'\n",
    "print(f\"🎯 Estimated Probability (a): {result.estimation_processed:.6f}\")\n",
    "# The confidence interval for the true value of 'a'\n",
    "print(f\"Confidence Interval: [{result.confidence_interval_processed[0]:.6f}, {result.confidence_interval_processed[1]:.6f}]\")\n",
    "print(f\"Total Oracle Queries: {result.num_oracle_queries}\")\n",
    "print(\"-\" * 50)\n",
    "\n",
    "QuantumQueries=result.num_oracle_queries\n",
    "# Un-Scale the scaled function\n",
    "Quantum_Integral_value=result.estimation_processed*(upper_limit-lower_limit)*(float(M)-float(m))  +float(m)\n",
    "print(f\"The Quantum Integration value: {Quantum_Integral_value}\")"
   ]
  },
  {
   "cell_type": "code",
   "execution_count": null,
   "id": "fe50e158",
   "metadata": {},
   "outputs": [
    {
     "name": "stdout",
     "output_type": "stream",
     "text": [
      "--- IQAE Results ---\n",
      "Target Precision (epsilon): 0.01\n",
      "Confidence Level (1 - alpha): 0.95\n",
      "--------------------\n",
      "🎯 Estimated Probability (a): 0.333632\n",
      "Confidence Interval: [0.330917, 0.336347]\n",
      "Total Oracle Queries: 7168\n",
      "--------------------------------------------------\n"
     ]
    }
   ],
   "source": [
    "\n",
    "\n"
   ]
  },
  {
   "cell_type": "code",
   "execution_count": null,
   "id": "37bf2902",
   "metadata": {},
   "outputs": [],
   "source": [
    "# Number of classical queries is the number of samples generated\n",
    "def calculate_classical_samples(epsilon_target, alpha):\n",
    "    \"\"\"\n",
    "    Calculates the number of classical samples needed to achieve a target error\n",
    "    epsilon with a confidence level of (1 - alpha).\n",
    "    \"\"\"\n",
    "    if not 0 < epsilon_target:\n",
    "        raise ValueError(\"Epsilon must be a positive number.\")\n",
    "    if not 0 < alpha < 1:\n",
    "        raise ValueError(\"Alpha must be between 0 and 1.\")\n",
    "        \n",
    "    # 1. Find the Z-score for the given confidence level alpha.\n",
    "    # For a two-sided interval, we look at the 1 - alpha/2 percentile.\n",
    "    z_score = norm.ppf(1 - alpha / 2)\n",
    "    \n",
    "    # 2. Assume worst-case variance (a=0.5) for a standardized comparison.\n",
    "    # The variance of a Bernoulli trial is a*(1-a), which is max at a=0.5.\n",
    "    worst_case_variance = 0.25\n",
    "    \n",
    "    # 3. Use the full formula: M = z^2 * variance / epsilon^2\n",
    "    num_samples = (z_score**2 * worst_case_variance) / (epsilon_target**2)\n",
    "    \n",
    "    required_samples = int(np.ceil(num_samples))\n",
    "    \n",
    "    print(f\"For epsilon={epsilon_target} and alpha={alpha} (a {100*(1-alpha):.0f}% confidence level):\")\n",
    "    print(f\"Required classical samples: {required_samples}\")\n",
    "    \n",
    "    return required_samples"
   ]
  },
  {
   "cell_type": "code",
   "execution_count": null,
   "id": "b59c23a1",
   "metadata": {},
   "outputs": [],
   "source": [
    "# Create Even logarithmic spaced points for good quadratic plot display. Start from 0.1 to 0.001\n",
    "epsilon_targets_array = np.logspace(-1, -3, num=10)\n",
    "\n",
    "ClassicalQueries_Array=[]\n",
    "QuantumQueries_Array=[]\n",
    "for epsilon in epsilon_targets_array:\n",
    "\n",
    "    current=calculate_classical_samples(epsilon_target,alpha)\n",
    "    ClassicalQueries_Array.append(current)\n",
    "\n",
    "    quantumResult= RunIQAE(qc,epsilon,alpha,num_qubits)\n",
    "    Qcurrent= quantumResult.num_oracle_queries\n",
    "    QuantumQueries_Array.append(Qcurrent)\n"
   ]
  },
  {
   "cell_type": "code",
   "execution_count": null,
   "id": "ff4fe560",
   "metadata": {},
   "outputs": [],
   "source": [
    "plt.xlabel(\"Number of Samples\")\n",
    "plt.ylabel(\"Absolute Error\")\n",
    "plt.grid(True)\n",
    "plt.legend()\n",
    "plt.plot(ClassicalQueries_Array,epsilon_targets_array,\n",
    "         color='green', label='Classical Queries')\n",
    "plt.plot(QuantumQueries_Array,epsilon_targets_array,\n",
    "         color='blue', label='Quantum Queries')\n",
    "\n",
    "plt.show()"
   ]
  }
 ],
 "metadata": {
  "kernelspec": {
   "display_name": "cwq311",
   "language": "python",
   "name": "python3"
  },
  "language_info": {
   "codemirror_mode": {
    "name": "ipython",
    "version": 3
   },
   "file_extension": ".py",
   "mimetype": "text/x-python",
   "name": "python",
   "nbconvert_exporter": "python",
   "pygments_lexer": "ipython3",
   "version": "3.11.11"
  }
 },
 "nbformat": 4,
 "nbformat_minor": 5
}
