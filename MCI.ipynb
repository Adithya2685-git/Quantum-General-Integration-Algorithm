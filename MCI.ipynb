{
 "cells": [
  {
   "cell_type": "code",
   "execution_count": 29,
   "id": "7621b0bd",
   "metadata": {},
   "outputs": [],
   "source": [
    "import sympy\n",
    "from sympy import I, re, im\n",
    "from sympy.parsing.sympy_parser import (parse_expr, standard_transformations,\n",
    "                                        implicit_multiplication_application,convert_xor)\n",
    "from IPython.display import display\n",
    "sympy.init_printing(use_latex='mathjax')\n",
    "import numpy as np\n",
    "np.set_printoptions(suppress=True)\n",
    "from qiskit import ClassicalRegister, QuantumRegister, QuantumCircuit, generate_preset_pass_manager, transpile\n",
    "from qiskit_ibm_runtime import SamplerV2 as Sampler, EstimatorV2 as Estimator, QiskitRuntimeService\n",
    "from qiskit_aer import AerSimulator\n",
    "import matplotlib.pyplot as plt\n",
    "import pyqsp\n",
    "from pyqsp.poly import PolyTaylorSeries\n",
    "from sympy.functions.special.polynomials import chebyshevt\n",
    "from scipy.optimize import minimize\n"
   ]
  },
  {
   "cell_type": "code",
   "execution_count": 31,
   "id": "68bd74d2",
   "metadata": {},
   "outputs": [
    {
     "name": "stdout",
     "output_type": "stream",
     "text": [
      "\n",
      "Entered definite integral Mathematical expression:\n"
     ]
    },
    {
     "data": {
      "text/latex": [
       "$\\displaystyle \\int\\limits_{1}^{10} \\log{\\left(x \\right)}\\, dx$"
      ],
      "text/plain": [
       "10          \n",
       "⌠           \n",
       "⎮  log(x) dx\n",
       "⌡           \n",
       "1           "
      ]
     },
     "metadata": {},
     "output_type": "display_data"
    }
   ],
   "source": [
    "try:\n",
    "    # --- Get User Input ---\n",
    "    func_str = input(\"Enter the function to integrate (e.g., sin(x) * exp(-x)): \")\n",
    "    lower_limit_str = input(\"Enter the lower limit of integration (e.g., 0): \")\n",
    "    upper_limit_str = input(\"Enter the upper limit of integration (e.g., pi): \")\n",
    "\n",
    "    # --- Define the single, expected symbolic variable ---\n",
    "    x = sympy.symbols('x', real=True)\n",
    "    expected_symbols = {x}\n",
    "\n",
    "    # --- Safely Parse the Function String ---\n",
    "    local_dict = {'x': x}\n",
    "    global_dict = sympy.__dict__\n",
    "    transformations = standard_transformations + (implicit_multiplication_application, convert_xor)\n",
    "    func_expr = parse_expr(func_str,\n",
    "                           local_dict=local_dict,\n",
    "                           global_dict=global_dict,\n",
    "                           transformations=transformations)\n",
    "\n",
    "    # --- THE CRUCIAL VALIDATION STEP ---\n",
    "    found_symbols = func_expr.free_symbols\n",
    "    if not found_symbols.issubset(expected_symbols):\n",
    "        unknown_symbols = found_symbols - expected_symbols\n",
    "        raise ValueError(f\"Function contains unknown variables: {unknown_symbols}. \"\n",
    "                         f\"The expression must only depend on 'x'.\")\n",
    "\n",
    "    # --- Finalize Inputs ---\n",
    "    lower_limit = sympy.sympify(lower_limit_str)\n",
    "    upper_limit = sympy.sympify(upper_limit_str)\n",
    "\n",
    "    func = sympy.simplify(func_expr)\n",
    "    \n",
    "    # --- Display the problem ---\n",
    "    integral_expr = sympy.Integral(func, (x, lower_limit, upper_limit))\n",
    "    print(\"\\nEntered definite integral Mathematical expression:\")\n",
    "    display(integral_expr)\n",
    "\n",
    "    # Convert limits to floats to prevent constants parsing errors\n",
    "    try:\n",
    "        lower_limit_f = float(lower_limit)\n",
    "        upper_limit_f = float(upper_limit)\n",
    "    except TypeError:\n",
    "        lower_limit_f = float(lower_limit.evalf())\n",
    "        upper_limit_f = float(upper_limit.evalf())\n",
    "\n",
    "    lower_limit=lower_limit_f\n",
    "    upper_limit= upper_limit_f\n",
    "except Exception as e:\n",
    "    print(f\"\\nError: Could not process the input. Please check the expression. \\nDetails: {e}\")\n",
    "\n",
    "\n",
    "\n"
   ]
  },
  {
   "cell_type": "code",
   "execution_count": null,
   "id": "68023ddf",
   "metadata": {},
   "outputs": [],
   "source": [
    "def getChebyshevPolynomial(symbol, function, degree, lower_limit, upper_limit,max_scale):\n",
    "    \"\"\"\n",
    "    Generates a Chebyshev polynomial approximation for a given SymPy function.\n",
    "    \"\"\"\n",
    "    print(f\"Chebyshev APPROXIMATION to {degree}th degree : \")\n",
    "\n",
    "\n",
    "    # Create a numerical version of the original function f(x).\n",
    "    f_numeric = sympy.lambdify(symbol, function, 'numpy')\n",
    "\n",
    "    # Define the transformed function g(y) for the interval [-1, 1].\n",
    "    jac_scaling = (upper_limit - lower_limit) / 2.0\n",
    "    offset = (upper_limit + lower_limit) / 2.0\n",
    "    \n",
    "    # This g(y) is now a purely numerical function, as required by SciPy.\n",
    "    g = lambda y: f_numeric(jac_scaling * y + offset) * jac_scaling\n",
    "    \n",
    "    # Find the maximum absolute value of g(y) for scaling.\n",
    "    # -|g(y)| because min of that is max of g(y)\n",
    "    res = minimize(lambda y: -np.abs(g(y)), x0=0, bounds=[(-1, 1)])\n",
    "    max_g_val = -res.fun\n",
    "\n",
    "    # Generate the Chebyshev polynomial approximation of the core function f(x)\n",
    "    # The function passed to pyqsp must also be purely numerical.\n",
    "    # Approximate the function f(...) without the jac_scaling factor.\n",
    "    func_to_approximate = lambda y: f_numeric(jac_scaling * y + offset)\n",
    "    \n",
    "    poly_chebyshev = PolyTaylorSeries().taylor_series(\n",
    "        func=func_to_approximate,\n",
    "        degree=degree,\n",
    "        max_scale=max_scale,\n",
    "        chebyshev_basis=True,\n",
    "        cheb_samples=2 * degree\n",
    "    )\n",
    "    \n",
    "    # The scaling factor M should be 4 * max(|f(x)|) on the original interval.\n",
    "    # max(|g(y)|) = max(|f(x)|) * jac_scaling.\n",
    "    # So, max(|f(x)|) = max_g_val / jac_scaling.\n",
    "    M = (max_g_val / jac_scaling) * 4.0 if jac_scaling != 0 else max_g_val * 4.0\n",
    "    print(f\"M value for scaling is: {M:.4f}\")\n",
    "\n",
    "    y_sym = sympy.Symbol('y')\n",
    "    coeffs = poly_chebyshev.coef\n",
    "    \n",
    "    # The polynomial approximates f(...), so we multiply by jac_scaling for the integral.\n",
    "    chebyshev_sympy_expr = jac_scaling * sum(coeffs[i] * chebyshevt(i, y_sym) for i in range(len(coeffs)))\n",
    "\n",
    "    integration_expr = sympy.Integral(chebyshev_sympy_expr, (y_sym, -1, 1))\n",
    "    print(\"\\nApproximated Integral (Chebyshev Polynomial on [-1, 1]):\")\n",
    "    display(integration_expr)\n",
    "\n",
    "    return coeffs, M,chebyshev_sympy_expr"
   ]
  },
  {
   "cell_type": "code",
   "execution_count": null,
   "id": "c27f25a3",
   "metadata": {},
   "outputs": [],
   "source": [
    "# Discretize func_expr\n",
    "def discretize(f_callable,lower_limit, upper_limit,N):\n",
    "    upper_limit= float(upper_limit)\n",
    "    lower_limit= float(lower_limit)\n",
    "    \n",
    "    #f_callable= sympy.lambdify(x, func, 'numpy')\n",
    "\n",
    "    # N random X points such that there are N random F(x). Sigma F(x) deltaX is integral (RIEMANN SUM)\n",
    "    x_array = np.random.uniform(lower_limit,upper_limit,N)\n",
    "    y_array= f_callable(x_array)\n",
    "   \n",
    "    return y_array,x_array \n",
    "\n",
    "def IntegrateClassical(y_arr,lower_limit, upper_limit,N):\n",
    "    \n",
    "    total_sum= np.sum(y_arr, dtype= float)\n",
    "\n",
    "    # Average\n",
    "    Classical_integral=total_sum/N\n",
    "\n",
    "    return Classical_integral"
   ]
  },
  {
   "cell_type": "code",
   "execution_count": 2,
   "id": "c538b70b",
   "metadata": {},
   "outputs": [],
   "source": [
    "# Degree of Approximation\n",
    "d= 14\n",
    "num_qubits=13\n",
    "N=2**num_qubits"
   ]
  },
  {
   "cell_type": "code",
   "execution_count": 132,
   "id": "ae9cc48c",
   "metadata": {},
   "outputs": [
    {
     "name": "stdout",
     "output_type": "stream",
     "text": [
      "Y Array:\n",
      "[1.94997643 1.72506074 0.26910872 ... 0.85242051 1.60684288 1.2013302 ]\n",
      "\n",
      "Classical Integration Answer:\n",
      "14.496695919094902\n"
     ]
    }
   ],
   "source": [
    "g_numerical = sympy.lambdify(sympy.symbols('y',real=True),\n",
    "                              chebyshev_Polynomial, 'numpy')\n",
    "\n",
    "y_classical, x_array_classical=discretize(g_numerical,-1,1,N)\n",
    "\n",
    "# Scale y with y_classical*2\n",
    "y_classical= (y_classical*(M/4))/4\n",
    "answer= IntegrateClassical(y_classical,-1,1,N)\n",
    "\n",
    "\n",
    "print(\"Y Array:\")\n",
    "print(y_classical)\n",
    "\n",
    "\n",
    "print(\"\\nClassical Integration Answer:\")\n",
    "# Un-Scale\n",
    "answer*=M\n",
    "print(answer)"
   ]
  },
  {
   "cell_type": "markdown",
   "id": "b26d9336",
   "metadata": {},
   "source": [
    "The Original Function F_callable is assumed to be the ideal in 2^14 samples to show almost continuous function plot.\n",
    "This is because present QPUs can't run this algorithm for 14 qubits and the simulation is quite resource intensive.\n",
    "\n",
    "Chebyshev_polynomial_expr is the approximated chebyshev polynomial from the original f(x)\n",
    "    This polynomial is approximated to the dth degree and N= 2**n samples.\n",
    "    The plots of this polynomial are in Green Color.\n",
    "\n",
    "\n",
    "Quantum Loaded Plots are in Blue Color.\n",
    " \n"
   ]
  },
  {
   "cell_type": "code",
   "execution_count": 124,
   "id": "6fabb3bd",
   "metadata": {},
   "outputs": [
    {
     "data": {
      "image/png": "[encoded data removed]",
      "text/plain": [
       "<Figure size 640x480 with 1 Axes>"
      ]
     },
     "metadata": {},
     "output_type": "display_data"
    }
   ],
   "source": [
    "# Create a numerical version of the original function f(x).\n",
    "f_numerical = sympy.lambdify(x, func, 'numpy')\n",
    "jac_scaling = (upper_limit - lower_limit) / 2.0\n",
    "offset = (upper_limit + lower_limit) / 2.0\n",
    "f_ideal_callable = lambda y: f_numerical(jac_scaling * y + offset)\n",
    "\n",
    "y,x_array= discretize(f_ideal_callable,-1,1,2**14)\n",
    "\n",
    "plt.xlabel(\"x-axis\")\n",
    "plt.ylabel(\"y-axis\")\n",
    "plt.title(f\"Approximated to {d}th Degree\")\n",
    "plt.scatter(x_array_classical,y_classical,\n",
    "             color='green', label='Classical Chebyshev',s=0.1)\n",
    "plt.scatter(x_array,y,\n",
    "            color='red',label='Target State', s=0.1)\n",
    "plt.grid(True)\n",
    "plt.legend()\n",
    "plt.show()"
   ]
  },
  {
   "cell_type": "code",
   "execution_count": null,
   "id": "2177a40c",
   "metadata": {},
   "outputs": [],
   "source": [
    "plt.xlabel(\"x-axis\")\n",
    "plt.ylabel(\"y-axis\")\n",
    "\n",
    "plt.title(f\"Error of{d}th Degree\")\n",
    "\n"
   ]
  },
  {
   "cell_type": "code",
   "execution_count": null,
   "id": "dd6af075",
   "metadata": {},
   "outputs": [
    {
     "name": "stdout",
     "output_type": "stream",
     "text": [
      "Chebyshev APPROXIMATION to 14th degree : \n",
      "[PolyTaylorSeries] (Cheb) max 0.39086585847364935 is at 1.0: normalizing\n",
      "[PolyTaylorSeries] (Cheb) average error = 1.8345456924041132e-06 in the domain [-1, 1] using degree 14\n",
      "M value for scaling is: 9.2103\n",
      "\n",
      "Approximated Integral (Chebyshev Polynomial on [-1, 1]):\n"
     ]
    },
    {
     "data": {
      "text/latex": [
       "$\\displaystyle \\int\\limits_{-1}^{1} \\left(- 0.214613945739972 y^{14} + 0.22244990000608 y^{13} + 0.519204398914016 y^{12} - 0.479426794209871 y^{11} - 0.594832846745593 y^{10} + 0.509715120669933 y^{9} + 0.267419472196403 y^{8} - 0.164493389434688 y^{7} - 0.176229116945105 y^{6} + 0.181645363074996 y^{5} - 0.185087235381794 y^{4} + 0.315850311075068 y^{3} - 0.589328516278112 y^{2} + 1.43924706742208 y + 2.99848021137655\\right)\\, dy$"
      ],
      "text/plain": [
       "1                                                                              ↪\n",
       "⌠                                                                              ↪\n",
       "⎮  ⎛                     14                     13                      12     ↪\n",
       "⎮  ⎝- 0.214613945739972⋅y   + 0.22244990000608⋅y   + 0.519204398914016⋅y   - 0 ↪\n",
       "⌡                                                                              ↪\n",
       "-1                                                                             ↪\n",
       "\n",
       "↪                                                                              ↪\n",
       "↪                                                                              ↪\n",
       "↪                   11                      10                      9          ↪\n",
       "↪ .479426794209871⋅y   - 0.594832846745593⋅y   + 0.509715120669933⋅y  + 0.2674 ↪\n",
       "↪                                                                              ↪\n",
       "↪                                                                              ↪\n",
       "\n",
       "↪                                                                              ↪\n",
       "↪                                                                              ↪\n",
       "↪              8                      7                      6                 ↪\n",
       "↪ 19472196403⋅y  - 0.164493389434688⋅y  - 0.176229116945105⋅y  + 0.18164536307 ↪\n",
       "↪                                                                              ↪\n",
       "↪                                                                              ↪\n",
       "\n",
       "↪                                                                              ↪\n",
       "↪                                                                              ↪\n",
       "↪       5                      4                      3                      2 ↪\n",
       "↪ 4996⋅y  - 0.185087235381794⋅y  + 0.315850311075068⋅y  - 0.589328516278112⋅y  ↪\n",
       "↪                                                                              ↪\n",
       "↪                                                                              ↪\n",
       "\n",
       "↪                                             \n",
       "↪                                             \n",
       "↪                                         ⎞   \n",
       "↪  + 1.43924706742208⋅y + 2.99848021137655⎠ dy\n",
       "↪                                             \n",
       "↪                                             "
      ]
     },
     "metadata": {},
     "output_type": "display_data"
    },
    {
     "name": "stdout",
     "output_type": "stream",
     "text": [
      "The Chebyshev polynomial 15 coefficients to encode on Quantum Circuit are: \n",
      "[ 0.5729431   0.40610482 -0.10548448  0.03653236 -0.01423375  0.00591548\n",
      " -0.00256088  0.00114031 -0.00051834  0.00023935 -0.00011191  0.00005285\n",
      " -0.00002517  0.00001207 -0.00000582]\n"
     ]
    }
   ],
   "source": [
    "chebyshev_coeffs, M,chebyshev_Polynomial = getChebyshevPolynomial(x,func, d, lower_limit, upper_limit,0.25)\n",
    "\n",
    "print(f\"The Chebyshev polynomial {len(chebyshev_coeffs)} coefficients to encode on Quantum Circuit are: \")\n",
    "print(chebyshev_coeffs)\n"
   ]
  },
  {
   "cell_type": "code",
   "execution_count": null,
   "id": "278adaaf",
   "metadata": {},
   "outputs": [],
   "source": [
    "def walsh_loader(qc,Qbit,ancilla,y,N):\n",
    "    # Min-Max scale y\n",
    "    y= y\n",
    "    wh_transform=np.array(sympy.fwht(y), dtype=float)/np.sqrt(N)\n",
    "\n",
    "    \n",
    "    print(\"THIS IS Y L2 NORMALIZED\")\n",
    "    print(y)\n",
    "\n",
    "    print(\"THIS IS AFTER APPLYING FWHT\")\n",
    "    print(wh_transform)\n",
    "\n",
    "    return qc"
   ]
  },
  {
   "cell_type": "code",
   "execution_count": null,
   "id": "bb463df4",
   "metadata": {},
   "outputs": [],
   "source": [
    "Qbit= QuantumRegister(num_qubits,name='logical')\n",
    "Cbit= ClassicalRegister(num_qubits,name='result')\n",
    "ancilla= QuantumRegister(3,name='anc')\n",
    "\n",
    "qc= QuantumCircuit(Qbit,ancilla,Cbit)\n",
    "#Equal Superposition\n",
    "\n",
    "\n",
    "#qc= walsh_loader(qc,Qbit,ancilla,,N)"
   ]
  },
  {
   "cell_type": "code",
   "execution_count": 86,
   "id": "c306154f",
   "metadata": {},
   "outputs": [
    {
     "data": {
      "image/png": "[encoded data removed]",
      "text/plain": [
       "<Figure size 363.409x785.944 with 1 Axes>"
      ]
     },
     "execution_count": 86,
     "metadata": {},
     "output_type": "execute_result"
    }
   ],
   "source": [
    "qc.draw('mpl')"
   ]
  },
  {
   "cell_type": "code",
   "execution_count": null,
   "id": "1e6e80fe",
   "metadata": {},
   "outputs": [],
   "source": [
    "service = QiskitRuntimeService(name=\"qiskit_adi\")\n",
    "# Get a backend\n",
    "backend = AerSimulator()\n",
    "#backend = service.least_busy(operational=True, simulator=False)\n",
    "#backend= service.backend(name='ibm_torino')\n",
    "print(f\"We are using the {backend.name} quantum computer\")\n",
    "shots= 1024\n",
    "sampler = Sampler(mode=backend)"
   ]
  },
  {
   "cell_type": "code",
   "execution_count": null,
   "id": "71b73d38",
   "metadata": {},
   "outputs": [],
   "source": []
  }
 ],
 "metadata": {
  "kernelspec": {
   "display_name": "cwq311",
   "language": "python",
   "name": "python3"
  },
  "language_info": {
   "codemirror_mode": {
    "name": "ipython",
    "version": 3
   },
   "file_extension": ".py",
   "mimetype": "text/x-python",
   "name": "python",
   "nbconvert_exporter": "python",
   "pygments_lexer": "ipython3",
   "version": "3.11.11"
  }
 },
 "nbformat": 4,
 "nbformat_minor": 5
}
