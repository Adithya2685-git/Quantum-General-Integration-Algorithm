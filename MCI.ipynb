{
 "cells": [
  {
   "cell_type": "code",
   "execution_count": 11,
   "id": "7621b0bd",
   "metadata": {},
   "outputs": [],
   "source": [
    "import sympy\n",
    "from sympy import I, re, im\n",
    "from sympy.parsing.sympy_parser import (parse_expr, standard_transformations,\n",
    "                                        implicit_multiplication_application,convert_xor)\n",
    "from IPython.display import display\n",
    "sympy.init_printing(use_latex='mathjax')\n",
    "import numpy as np\n",
    "np.set_printoptions(suppress=True)\n",
    "from qiskit import ClassicalRegister, QuantumRegister, QuantumCircuit, generate_preset_pass_manager, transpile\n",
    "from qiskit_ibm_runtime import SamplerV2 as Sampler, EstimatorV2 as Estimator, QiskitRuntimeService\n",
    "from qiskit_aer import AerSimulator\n",
    "import matplotlib.pyplot as plt"
   ]
  },
  {
   "cell_type": "code",
   "execution_count": 15,
   "id": "68bd74d2",
   "metadata": {},
   "outputs": [
    {
     "name": "stdout",
     "output_type": "stream",
     "text": [
      "Entered definite integral Mathematical expression:\n",
      "The function is complex. Splitting into real and imaginary parts:\n"
     ]
    },
    {
     "data": {
      "text/latex": [
       "$\\displaystyle \\int\\limits_{0}^{\\pi} e^{i x}\\, dx = \\int\\limits_{0}^{\\pi} \\cos{\\left(x \\right)}\\, dx + i \\int\\limits_{0}^{\\pi} \\sin{\\left(x \\right)}\\, dx$"
      ],
      "text/plain": [
       "π                                      \n",
       "⌠           π               π          \n",
       "⎮  ⅈ⋅x      ⌠               ⌠          \n",
       "⎮ ℯ    dx = ⎮ cos(x) dx + ⅈ⋅⎮ sin(x) dx\n",
       "⌡           ⌡               ⌡          \n",
       "0           0               0          "
      ]
     },
     "metadata": {},
     "output_type": "display_data"
    }
   ],
   "source": [
    "\n",
    "func_str = input(\"Enter the function to integrate (e.g., sin(x) * exp(-x)): \")\n",
    "lower_limit_str = input(\"Enter the lower limit of integration (e.g., 0): \")\n",
    "upper_limit_str = input(\"Enter the upper limit of integration (e.g., pi): \")\n",
    "\n",
    "# variables\n",
    "x = sympy.symbols('x',real=True)\n",
    "\n",
    "try:\n",
    "    # Parse inputs\n",
    "    local_dict= {'x':x, 'I':I, 'i':I}\n",
    "    global_dict= sympy.__dict__\n",
    "    transformations = standard_transformations + (implicit_multiplication_application,convert_xor)\n",
    "    \n",
    "    func_expr = parse_expr(func_str,\n",
    "                        local_dict=local_dict,\n",
    "                        global_dict=global_dict,\n",
    "                        transformations=transformations)\n",
    "\n",
    "    lower_limit = sympy.sympify(lower_limit_str)\n",
    "    upper_limit = sympy.sympify(upper_limit_str)\n",
    "\n",
    "    func_real= sympy.simplify(re(func_expr))\n",
    "    func_imag= sympy.simplify(im(func_expr))\n",
    "\n",
    "    # Display integration expression\n",
    "    integral_expr = sympy.Integral(func_expr, (x, lower_limit, upper_limit))\n",
    "\n",
    "    print(\"Entered definite integral Mathematical expression:\")\n",
    "    if func_imag==0:\n",
    "        print(\"The function is PURELY REAL:\")\n",
    "        display(integral_expr)\n",
    "\n",
    "    else:\n",
    "        integral_real= sympy.Integral(func_real,(x,lower_limit, upper_limit))\n",
    "        integral_imag= sympy.Integral(func_imag, (x, lower_limit, upper_limit))\n",
    "\n",
    "        print(\"The function is complex. Splitting into real and imaginary parts:\")\n",
    "        display(sympy.Eq(integral_expr, integral_real + I*integral_imag))\n",
    "\n",
    "except (sympy.SympifyError, SyntaxError) as e:\n",
    "    print(f\"\\nError: Could not parse the input. Please check your expression. Details: {e}\")\n",
    "\n"
   ]
  },
  {
   "cell_type": "code",
   "execution_count": 17,
   "id": "ecd84ce2",
   "metadata": {},
   "outputs": [],
   "source": [
    "# Number of Samples N= 2^n\n",
    "num_qubits= 13\n",
    "N= 2**num_qubits"
   ]
  },
  {
   "cell_type": "code",
   "execution_count": 18,
   "id": "97b9e547",
   "metadata": {},
   "outputs": [
    {
     "name": "stdout",
     "output_type": "stream",
     "text": [
      "The Real Normalized N-Values are:\n",
      "[0.01321929 0.44546094 0.46052966 ... 0.4267823  0.61612536 0.83148648]\n",
      "The Imaginary Normalized N-Values are:\n",
      "[0.22820753 0.9940315  0.99687844 ... 0.98921719 0.97264821 0.74857226]\n"
     ]
    }
   ],
   "source": [
    "# Discretize func_expr\n",
    "\n",
    "upper_limit= float(upper_limit)\n",
    "lower_limit= float(lower_limit)\n",
    "\n",
    "limits_difference =upper_limit- lower_limit\n",
    "\n",
    "g_callable= sympy.lambdify(x, func_real, 'numpy')\n",
    "h_callable= sympy.lambdify(x, func_imag, 'numpy')\n",
    "\n",
    "# N random samples\n",
    "x_array = np.random.uniform(lower_limit,upper_limit,N)\n",
    "\n",
    "\n",
    "y_real_array= g_callable(x_array)\n",
    "max_element_real= np.max(y_real_array)\n",
    "min_element_real= np.min(y_real_array)\n",
    "\n",
    "# Normalize the samples\n",
    "normalized_y_real= (y_real_array-min_element_real)/(max_element_real-min_element_real)\n",
    "\n",
    "print(\"The Real Normalized N-Values are:\")\n",
    "print(normalized_y_real)\n",
    "\n",
    "\n",
    "if func_imag!=0:\n",
    "    y_imag_array= h_callable(x_array)\n",
    "\n",
    "    max_element_imag= np.max(y_imag_array)\n",
    "    min_element_imag= np.min(y_imag_array)\n",
    "\n",
    "    # Normalize the samples\n",
    "    normalized_y_imag= (y_imag_array-min_element_imag)/(max_element_imag-min_element_imag)\n",
    "\n",
    "    print(\"The Imaginary Normalized N-Values are:\")\n",
    "    print(normalized_y_imag)\n",
    "\n",
    "\n",
    "\n",
    "\n"
   ]
  },
  {
   "cell_type": "code",
   "execution_count": 25,
   "id": "c27f25a3",
   "metadata": {},
   "outputs": [],
   "source": [
    "classical_iterations_real= np.cumsum(normalized_y_real, dtype= float)\n",
    "\n",
    "# Average\n",
    "for i in range(N):\n",
    "    classical_iterations_real[i]=classical_iterations_real[i]/(i+1)\n",
    "\n",
    "# Denormalize\n",
    "classical_iterations_real= (classical_iterations_real*(max_element_real-min_element_real))+min_element_real\n",
    "# Integral\n",
    "Classical_integral_real= classical_iterations_real*(upper_limit-lower_limit)\n",
    "Classical_integral_imag=0\n",
    "\n",
    "if func_imag!=0:\n",
    "    classical_iterations_imag= np.cumsum(normalized_y_imag, dtype= float)\n",
    "\n",
    "    # Average\n",
    "    for i in range(N):\n",
    "        classical_iterations_imag[i]=classical_iterations_imag[i]/(i+1)\n",
    "\n",
    "    # Denormalize\n",
    "    classical_iterations_imag= (classical_iterations_imag*(max_element_imag-min_element_imag))+min_element_imag\n",
    "    # Integral\n",
    "    Classical_integral_imag= classical_iterations_imag*(upper_limit-lower_limit)\n"
   ]
  },
  {
   "cell_type": "code",
   "execution_count": 26,
   "id": "71e89e4b",
   "metadata": {},
   "outputs": [
    {
     "data": {
      "text/plain": [
       "[<matplotlib.lines.Line2D at 0x200fc218590>]"
      ]
     },
     "execution_count": 26,
     "metadata": {},
     "output_type": "execute_result"
    },
    {
     "data": {
      "image/png": "[encoded data removed]",
      "text/plain": [
       "<Figure size 640x480 with 1 Axes>"
      ]
     },
     "metadata": {},
     "output_type": "display_data"
    }
   ],
   "source": [
    "plt.xlabel= \"Iterations\"\n",
    "plt.ylabel= \"Value\"\n",
    "plt.plot(Classical_integral_imag)"
   ]
  },
  {
   "cell_type": "code",
   "execution_count": 27,
   "id": "dd6af075",
   "metadata": {},
   "outputs": [
    {
     "name": "stdout",
     "output_type": "stream",
     "text": [
      "Classical Integration Answer:\n"
     ]
    },
    {
     "data": {
      "text/latex": [
       "$\\displaystyle -0.0207897266986729 + 2.01925740115892 i$"
      ],
      "text/plain": [
       "-0.0207897266986729 + 2.01925740115892⋅ⅈ"
      ]
     },
     "metadata": {},
     "output_type": "display_data"
    }
   ],
   "source": [
    "classical_answer= Classical_integral_real[N-1]+ I*Classical_integral_imag[N-1]\n",
    "print(\"Classical Integration Answer:\")\n",
    "display(classical_answer)"
   ]
  },
  {
   "cell_type": "code",
   "execution_count": null,
   "id": "d5035796",
   "metadata": {},
   "outputs": [],
   "source": []
  },
  {
   "cell_type": "code",
   "execution_count": null,
   "id": "1e6e80fe",
   "metadata": {},
   "outputs": [],
   "source": [
    "service = QiskitRuntimeService(name=\"qiskit_adi\")\n",
    "# Get a backend\n",
    "backend = AerSimulator()\n",
    "#backend = service.least_busy(operational=True, simulator=False)\n",
    "#backend= service.backend(name='ibm_torino')\n",
    "print(f\"We are using the {backend.name} quantum computer\")\n",
    "shots= 1024\n",
    "sampler = Sampler(mode=backend)"
   ]
  },
  {
   "cell_type": "code",
   "execution_count": null,
   "id": "71b73d38",
   "metadata": {},
   "outputs": [],
   "source": []
  },
  {
   "cell_type": "code",
   "execution_count": null,
   "id": "ef5e214b",
   "metadata": {},
   "outputs": [],
   "source": []
  },
  {
   "cell_type": "code",
   "execution_count": null,
   "id": "3a3a7b13",
   "metadata": {},
   "outputs": [],
   "source": []
  }
 ],
 "metadata": {
  "kernelspec": {
   "display_name": "cwq311",
   "language": "python",
   "name": "python3"
  },
  "language_info": {
   "codemirror_mode": {
    "name": "ipython",
    "version": 3
   },
   "file_extension": ".py",
   "mimetype": "text/x-python",
   "name": "python",
   "nbconvert_exporter": "python",
   "pygments_lexer": "ipython3",
   "version": "3.11.11"
  }
 },
 "nbformat": 4,
 "nbformat_minor": 5
}
