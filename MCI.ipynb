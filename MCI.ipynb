{
 "cells": [
  {
   "cell_type": "code",
   "execution_count": 27,
   "id": "7621b0bd",
   "metadata": {},
   "outputs": [],
   "source": [
    "import sympy\n",
    "from sympy import I, re, im\n",
    "from sympy.parsing.sympy_parser import (parse_expr, standard_transformations,\n",
    "                                        implicit_multiplication_application,convert_xor)\n",
    "from IPython.display import display\n",
    "sympy.init_printing(use_latex='mathjax')\n",
    "import numpy as np\n",
    "np.set_printoptions(suppress=True)\n",
    "from qiskit import ClassicalRegister, QuantumRegister, QuantumCircuit, generate_preset_pass_manager, transpile\n",
    "from qiskit_ibm_runtime import SamplerV2 as Sampler, EstimatorV2 as Estimator, QiskitRuntimeService\n",
    "from qiskit_aer import AerSimulator\n",
    "import matplotlib.pyplot as plt\n",
    "from sympy.functions.special.polynomials import chebyshevt\n",
    "from scipy.optimize import minimize\n"
   ]
  },
  {
   "cell_type": "code",
   "execution_count": 4,
   "id": "68bd74d2",
   "metadata": {},
   "outputs": [
    {
     "name": "stdout",
     "output_type": "stream",
     "text": [
      "\n",
      "Entered definite integral Mathematical expression:\n"
     ]
    },
    {
     "data": {
      "text/latex": [
       "$\\displaystyle \\int\\limits_{1}^{10} \\log{\\left(x \\right)}\\, dx$"
      ],
      "text/plain": [
       "10          \n",
       "⌠           \n",
       "⎮  log(x) dx\n",
       "⌡           \n",
       "1           "
      ]
     },
     "metadata": {},
     "output_type": "display_data"
    }
   ],
   "source": [
    "try:\n",
    "    # Input\n",
    "    func_str = input(\"Enter the function to integrate (e.g., sin(x) * exp(-x)): \")\n",
    "    lower_limit_str = input(\"Enter the lower limit of integration (e.g., 0): \")\n",
    "    upper_limit_str = input(\"Enter the upper limit of integration (e.g., pi): \")\n",
    "\n",
    "    # Define the symbols\n",
    "    x = sympy.symbols('x', real=True)\n",
    "    expected_symbols = {x}\n",
    "\n",
    "    # Parse the Function String\n",
    "    local_dict = {'x': x}\n",
    "    global_dict = sympy.__dict__\n",
    "    transformations = standard_transformations + (implicit_multiplication_application, convert_xor)\n",
    "    func_expr = parse_expr(func_str,\n",
    "                           local_dict=local_dict,\n",
    "                           global_dict=global_dict,\n",
    "                           transformations=transformations)\n",
    "\n",
    "    # VALIDATE\n",
    "    found_symbols = func_expr.free_symbols\n",
    "    if not found_symbols.issubset(expected_symbols):\n",
    "        unknown_symbols = found_symbols - expected_symbols\n",
    "        raise ValueError(f\"Function contains unknown variables: {unknown_symbols}. \"\n",
    "                         f\"The expression must only depend on 'x'.\")\n",
    "\n",
    "    # --- Finalize Inputs ---\n",
    "    lower_limit = sympy.sympify(lower_limit_str)\n",
    "    upper_limit = sympy.sympify(upper_limit_str)\n",
    "\n",
    "    func = sympy.simplify(func_expr)\n",
    "    \n",
    "    # --- Display the problem ---\n",
    "    integral_expr = sympy.Integral(func, (x, lower_limit, upper_limit))\n",
    "    print(\"\\nEntered definite integral Mathematical expression:\")\n",
    "    display(integral_expr)\n",
    "\n",
    "    # Convert limits to floats to prevent constants parsing errors\n",
    "    try:\n",
    "        lower_limit_f = float(lower_limit)\n",
    "        upper_limit_f = float(upper_limit)\n",
    "    except TypeError:\n",
    "        lower_limit_f = float(lower_limit.evalf())\n",
    "        upper_limit_f = float(upper_limit.evalf())\n",
    "\n",
    "    lower_limit=lower_limit_f\n",
    "    upper_limit= upper_limit_f\n",
    "except Exception as e:\n",
    "    print(f\"\\nError: Could not process the input. Please check the expression. \\nDetails: {e}\")\n",
    "\n",
    "\n",
    "\n"
   ]
  },
  {
   "cell_type": "code",
   "execution_count": null,
   "id": "68023ddf",
   "metadata": {},
   "outputs": [],
   "source": [
    "def getChebyshevPolynomial( sympy_symbol,sympy_func ,degree, lower_limit, upper_limit):\n",
    "    \"\"\"\n",
    "    Generates a high-quality Chebyshev polynomial approximation for a given SymPy function\n",
    "    using NumPy's fitting method.\n",
    "    This is the ideal method because Taylor's approximation requires O(d^2) oracle calls.\n",
    "    Chebyshev approximation also uniformly distributes the error in the range making it ideal for this scenario.\n",
    "    \"\"\"\n",
    "    print(f\"Chebyshev Approximation to {degree}th degree:\\n\")\n",
    "\n",
    "    # 1. Callable numerical version of the function \"Oracle\"\n",
    "    f_numeric = sympy.lambdify(sympy_symbol, sympy_func, 'numpy')\n",
    "\n",
    "    # 2. Define the coordinate transformation from [lower_limit, upper_limit] to [-1, 1]\n",
    "    jac_scaling = (upper_limit - lower_limit) / 2.0\n",
    "    offset = (upper_limit + lower_limit) / 2.0\n",
    "    \n",
    "    # This is f(x) re-parameterized in terms of y. This is the function we will approximate.\n",
    "    func_to_approximate = lambda y_val: f_numeric(jac_scaling * y_val + offset)\n",
    "\n",
    "    # 3. Generate sample points and query the oracle to get data for fitting\n",
    "    # For a degree `d` polynomial, we need at least `d+1` points. 2*degree is ideal\n",
    "    num_samples = 2 * degree\n",
    "    sample_points_y = np.linspace(-1, 1, num_samples)\n",
    "    sample_values_f = func_to_approximate(sample_points_y)\n",
    "\n",
    "    # 4. Use NumPy to fit the Chebyshev polynomial to the sampled data\n",
    "    cheb_poly_fit = np.polynomial.chebyshev.Chebyshev.fit(\n",
    "        sample_points_y,\n",
    "        sample_values_f,\n",
    "        deg=degree\n",
    "    )\n",
    "    \n",
    "    # The coefficients are ordered from T_0 to T_d\n",
    "    coeffs = cheb_poly_fit.convert().coef\n",
    "    print(f\"Found {len(coeffs)} coefficients.\")\n",
    "\n",
    "    # 5. Calculate the scaling factor M = 4 * max(|f(x)|)\n",
    "    # We find the max value by evaluating our new high-quality approximation on a fine grid.\n",
    "    fine_grid_y = np.linspace(-1, 1, 1000)\n",
    "    max_f_val = np.max(np.abs(cheb_poly_fit(fine_grid_y)))\n",
    "    M = 4.0 * max_f_val\n",
    "    print(f\"M value for scaling is: {M:.4f}\")\n",
    "\n",
    "    # 6. Reconstruct a SymPy expression for display and symbolic integration\n",
    "    # The polynomial for the integral must approximate g(y) = f(x) * jac_scaling\n",
    "    y_sym = sympy.Symbol('y')\n",
    "    chebyshev_sympy_f = sum(coeffs[i] * chebyshevt(i, y_sym) for i in range(len(coeffs)))\n",
    "    chebyshev_sympy_g = jac_scaling * chebyshev_sympy_f\n",
    "\n",
    "    integration_expr = sympy.Integral(chebyshev_sympy_g, (y_sym, -1, 1))\n",
    "    print(\"\\nApproximated Integral (Chebyshev Polynomial on [-1, 1]):\")\n",
    "    display(integration_expr)\n",
    "    \n",
    "    # 7. New: Explicitly check the endpoint error to verify the quality\n",
    "    true_val_at_endpoint = func_to_approximate(1.0) # This is f(upper_limit)\n",
    "    approx_val_at_endpoint = cheb_poly_fit(1.0)\n",
    "    abs_error = np.abs(true_val_at_endpoint - approx_val_at_endpoint)\n",
    "    \n",
    "    print(f\"\\nError analysis at endpoint y=1 (x={upper_limit}):\")\n",
    "    print(f\"  - True value of f({upper_limit}) = {true_val_at_endpoint:.8f}\")\n",
    "    print(f\"  - Approx value from poly = {approx_val_at_endpoint:.8f}\")\n",
    "    print(f\"  - Absolute Error = {abs_error:.2e}\")\n",
    "\n",
    "    return coeffs, M, chebyshev_sympy_g"
   ]
  },
  {
   "cell_type": "code",
   "execution_count": 6,
   "id": "c27f25a3",
   "metadata": {},
   "outputs": [],
   "source": [
    "# Discretize func_expr\n",
    "def discretize(f_callable,lower_limit, upper_limit,N):\n",
    "    upper_limit= float(upper_limit)\n",
    "    lower_limit= float(lower_limit)\n",
    "    \n",
    "    #f_callable= sympy.lambdify(x, func, 'numpy')\n",
    "\n",
    "    # N random X points such that there are N random F(x). Sigma F(x) deltaX is integral (RIEMANN SUM)\n",
    "    x_array = np.random.uniform(lower_limit,upper_limit,N)\n",
    "    y_array= f_callable(x_array)\n",
    "   \n",
    "    return y_array,x_array "
   ]
  },
  {
   "cell_type": "code",
   "execution_count": 40,
   "id": "c538b70b",
   "metadata": {},
   "outputs": [],
   "source": [
    "# Degree of Approximation\n",
    "d= 14\n",
    "num_qubits=13\n",
    "N=2**num_qubits"
   ]
  },
  {
   "cell_type": "code",
   "execution_count": null,
   "id": "ae9cc48c",
   "metadata": {},
   "outputs": [
    {
     "name": "stdout",
     "output_type": "stream",
     "text": [
      "NumPy Chebyshev Approximation to 14th degree:\n",
      "\n",
      "Found 15 coefficients.\n",
      "M value for scaling is: 9.2103\n",
      "\n",
      "Approximated Integral (Chebyshev Polynomial on [-1, 1]):\n"
     ]
    },
    {
     "data": {
      "text/latex": [
       "$\\displaystyle \\int\\limits_{-1}^{1} \\left(- 0.406087521656328 y^{14} + 0.450717275583798 y^{13} + 0.859587875031073 y^{12} - 0.863426802729931 y^{11} - 0.924089101579893 y^{10} + 0.880558375349223 y^{9} + 0.310221201671649 y^{8} - 0.18669181040351 y^{7} - 0.332172637203404 y^{6} + 0.402654132215832 y^{5} - 0.491238113043924 y^{4} + 0.815020329213876 y^{3} - 1.50677568713758 y^{2} + 3.68198434600775 y + 7.67137056752098\\right)\\, dy$"
      ],
      "text/plain": [
       "1                                                                              ↪\n",
       "⌠                                                                              ↪\n",
       "⎮  ⎛                     14                      13                      12    ↪\n",
       "⎮  ⎝- 0.406087521656328⋅y   + 0.450717275583798⋅y   + 0.859587875031073⋅y   -  ↪\n",
       "⌡                                                                              ↪\n",
       "-1                                                                             ↪\n",
       "\n",
       "↪                                                                              ↪\n",
       "↪                                                                              ↪\n",
       "↪                    11                      10                      9         ↪\n",
       "↪ 0.863426802729931⋅y   - 0.924089101579893⋅y   + 0.880558375349223⋅y  + 0.310 ↪\n",
       "↪                                                                              ↪\n",
       "↪                                                                              ↪\n",
       "\n",
       "↪                                                                              ↪\n",
       "↪                                                                              ↪\n",
       "↪               8                     7                      6                 ↪\n",
       "↪ 221201671649⋅y  - 0.18669181040351⋅y  - 0.332172637203404⋅y  + 0.40265413221 ↪\n",
       "↪                                                                              ↪\n",
       "↪                                                                              ↪\n",
       "\n",
       "↪                                                                              ↪\n",
       "↪                                                                              ↪\n",
       "↪       5                      4                      3                     2  ↪\n",
       "↪ 5832⋅y  - 0.491238113043924⋅y  + 0.815020329213876⋅y  - 1.50677568713758⋅y   ↪\n",
       "↪                                                                              ↪\n",
       "↪                                                                              ↪\n",
       "\n",
       "↪                                            \n",
       "↪                                            \n",
       "↪                                        ⎞   \n",
       "↪ + 3.68198434600775⋅y + 7.67137056752098⎠ dy\n",
       "↪                                            \n",
       "↪                                            "
      ]
     },
     "metadata": {},
     "output_type": "display_data"
    },
    {
     "name": "stdout",
     "output_type": "stream",
     "text": [
      "\n",
      "Error analysis at endpoint y=1 (x=10.0):\n",
      "  - True value of f(10.0) = 2.30258509\n",
      "  - Approx value from poly = 2.30258498\n",
      "  - Absolute Error = 1.09e-07\n"
     ]
    }
   ],
   "source": [
    "# Plot an unscaled approximated polyomial to show that the approximated graph is very close to the original.\n",
    "# Also Plot the |f(x)-P(x)| graph to show that the error is uniformly distributed.\n",
    "### NOTE: Here g(y) is returned. g(y)= f(x)* jac_scaling.  f(x)= g(y)/jac_scaling..\n",
    "#  jac_scaling=(upper-lower)/2\n",
    "temp_coeff,tempM,Approx_chebyshev_Polynomial= getChebyshevPolynomial(x,func, d, lower_limit, upper_limit)\n"
   ]
  },
  {
   "cell_type": "code",
   "execution_count": 50,
   "id": "6fabb3bd",
   "metadata": {},
   "outputs": [],
   "source": [
    "# Create a numerical version of the original function f(x).\n",
    "f_numerical = sympy.lambdify(x, func, 'numpy')\n",
    "jac_scaling = (upper_limit - lower_limit) / 2.0\n",
    "offset = (upper_limit + lower_limit) / 2.0\n",
    "f_ideal_callable = lambda y: f_numerical(jac_scaling * y + offset)\n",
    "\n",
    "y,x_array= discretize(f_ideal_callable,-1,1,2**14)\n",
    "\n",
    "\n",
    "g_numerical = sympy.lambdify(sympy.symbols('y',real=True),\n",
    "                              Approx_chebyshev_Polynomial, 'numpy')\n",
    "\n",
    "# gy_classical= f(x)/jac_scaling\n",
    "y_classical= g_numerical(x_array)/((upper_limit-lower_limit)/2)"
   ]
  },
  {
   "cell_type": "code",
   "execution_count": 51,
   "id": "56fb66d7",
   "metadata": {},
   "outputs": [
    {
     "name": "stdout",
     "output_type": "stream",
     "text": [
      "Y Classical Array:\n",
      "[2.12821208 1.81230064 0.43011727 ... 2.06984304 1.29980807 1.43236036]\n",
      "\n",
      "Classical Integration Answer:\n",
      "6.2126563175317235\n",
      "[2.12821445 1.81229928 0.43010566 ... 2.06984268 1.29980796 1.43235763]\n"
     ]
    }
   ],
   "source": [
    "def IntegrateClassical(y_classical,lower_limit,upper_limit,N):\n",
    "\n",
    "    total_sum= np.sum(y_classical, dtype= float)\n",
    "\n",
    "    # Average\n",
    "    answer=(total_sum/N)*(upper_limit-lower_limit)\n",
    "\n",
    "    print(\"Y Classical Array:\")\n",
    "    print(y_classical)\n",
    "\n",
    "\n",
    "    print(\"\\nClassical Integration Answer:\")\n",
    "    print(answer)\n",
    "    return\n",
    "\n",
    "IntegrateClassical(y_classical,-1,1,N)\n",
    "\n",
    "print(y)"
   ]
  },
  {
   "cell_type": "markdown",
   "id": "b26d9336",
   "metadata": {},
   "source": [
    "The Original Function F_callable is assumed to be the ideal in 2^14 samples to show almost continuous function plot.\n",
    "This is because present QPUs can't run this algorithm for 14 qubits and the simulation is quite resource intensive.\n",
    "\n",
    "Chebyshev_polynomial_expr is the approximated chebyshev polynomial from the original f(x)\n",
    "    This polynomial is approximated to the dth degree and N= 2**n samples.\n",
    "    The plots of this polynomial are in Green Color.\n",
    "\n",
    "\n",
    "Quantum Loaded Plots are in Blue Color.\n",
    " \n"
   ]
  },
  {
   "cell_type": "code",
   "execution_count": 52,
   "id": "316ac0ef",
   "metadata": {},
   "outputs": [
    {
     "data": {
      "image/png": "[encoded data removed]",
      "text/plain": [
       "<Figure size 640x480 with 1 Axes>"
      ]
     },
     "metadata": {},
     "output_type": "display_data"
    }
   ],
   "source": [
    "plt.xlabel(\"x-axis\")\n",
    "plt.ylabel(\"y-axis\")\n",
    "plt.title(f\"Approximated to {d}th Degree\")\n",
    "plt.scatter(x_array,y_classical,\n",
    "             color='green', label='Classical Chebyshev',s=0.1)\n",
    "plt.scatter(x_array,y,\n",
    "            color='red',label='Target State', s=0.1)\n",
    "plt.grid(True)\n",
    "plt.legend()\n",
    "plt.show()"
   ]
  },
  {
   "cell_type": "code",
   "execution_count": 47,
   "id": "ebafd7f3",
   "metadata": {},
   "outputs": [
    {
     "name": "stdout",
     "output_type": "stream",
     "text": [
      "10.361632428839611\n",
      "2.302585092994046\n"
     ]
    }
   ],
   "source": [
    "print(g_numerical(1))\n",
    "\n",
    "print(f_numerical(10))"
   ]
  },
  {
   "cell_type": "code",
   "execution_count": null,
   "id": "2177a40c",
   "metadata": {},
   "outputs": [],
   "source": [
    "plt.xlabel(\"x-axis\")\n",
    "plt.ylabel(\"y-axis\")\n",
    "\n",
    "plt.title(f\"Error of{d}th Degree\")\n",
    "\n"
   ]
  },
  {
   "cell_type": "code",
   "execution_count": null,
   "id": "dd6af075",
   "metadata": {},
   "outputs": [
    {
     "name": "stdout",
     "output_type": "stream",
     "text": [
      "Chebyshev APPROXIMATION to 14th degree : \n",
      "[PolyTaylorSeries] (Cheb) max 0.39086585847364935 is at 1.0: normalizing\n",
      "[PolyTaylorSeries] (Cheb) average error = 1.8345456924041132e-06 in the domain [-1, 1] using degree 14\n",
      "M value for scaling is: 9.2103\n",
      "\n",
      "Approximated Integral (Chebyshev Polynomial on [-1, 1]):\n"
     ]
    },
    {
     "data": {
      "text/latex": [
       "$\\displaystyle \\int\\limits_{-1}^{1} \\left(- 0.214613945739972 y^{14} + 0.22244990000608 y^{13} + 0.519204398914016 y^{12} - 0.479426794209871 y^{11} - 0.594832846745593 y^{10} + 0.509715120669933 y^{9} + 0.267419472196403 y^{8} - 0.164493389434688 y^{7} - 0.176229116945105 y^{6} + 0.181645363074996 y^{5} - 0.185087235381794 y^{4} + 0.315850311075068 y^{3} - 0.589328516278112 y^{2} + 1.43924706742208 y + 2.99848021137655\\right)\\, dy$"
      ],
      "text/plain": [
       "1                                                                              ↪\n",
       "⌠                                                                              ↪\n",
       "⎮  ⎛                     14                     13                      12     ↪\n",
       "⎮  ⎝- 0.214613945739972⋅y   + 0.22244990000608⋅y   + 0.519204398914016⋅y   - 0 ↪\n",
       "⌡                                                                              ↪\n",
       "-1                                                                             ↪\n",
       "\n",
       "↪                                                                              ↪\n",
       "↪                                                                              ↪\n",
       "↪                   11                      10                      9          ↪\n",
       "↪ .479426794209871⋅y   - 0.594832846745593⋅y   + 0.509715120669933⋅y  + 0.2674 ↪\n",
       "↪                                                                              ↪\n",
       "↪                                                                              ↪\n",
       "\n",
       "↪                                                                              ↪\n",
       "↪                                                                              ↪\n",
       "↪              8                      7                      6                 ↪\n",
       "↪ 19472196403⋅y  - 0.164493389434688⋅y  - 0.176229116945105⋅y  + 0.18164536307 ↪\n",
       "↪                                                                              ↪\n",
       "↪                                                                              ↪\n",
       "\n",
       "↪                                                                              ↪\n",
       "↪                                                                              ↪\n",
       "↪       5                      4                      3                      2 ↪\n",
       "↪ 4996⋅y  - 0.185087235381794⋅y  + 0.315850311075068⋅y  - 0.589328516278112⋅y  ↪\n",
       "↪                                                                              ↪\n",
       "↪                                                                              ↪\n",
       "\n",
       "↪                                             \n",
       "↪                                             \n",
       "↪                                         ⎞   \n",
       "↪  + 1.43924706742208⋅y + 2.99848021137655⎠ dy\n",
       "↪                                             \n",
       "↪                                             "
      ]
     },
     "metadata": {},
     "output_type": "display_data"
    },
    {
     "name": "stdout",
     "output_type": "stream",
     "text": [
      "The Chebyshev polynomial 15 coefficients to encode on Quantum Circuit are: \n",
      "[ 0.5729431   0.40610482 -0.10548448  0.03653236 -0.01423375  0.00591548\n",
      " -0.00256088  0.00114031 -0.00051834  0.00023935 -0.00011191  0.00005285\n",
      " -0.00002517  0.00001207 -0.00000582]\n"
     ]
    }
   ],
   "source": [
    "chebyshev_coeffs, M,chebyshev_Polynomial = getChebyshevPolynomial(x,func, d, lower_limit, upper_limit,0.25)\n",
    "\n",
    "print(f\"The Chebyshev polynomial {len(chebyshev_coeffs)} coefficients to encode on Quantum Circuit are: \")\n",
    "print(chebyshev_coeffs)\n"
   ]
  },
  {
   "cell_type": "code",
   "execution_count": null,
   "id": "278adaaf",
   "metadata": {},
   "outputs": [],
   "source": [
    "def walsh_loader(qc,Qbit,ancilla,y,N):\n",
    "    # Min-Max scale y\n",
    "    y= y\n",
    "    wh_transform=np.array(sympy.fwht(y), dtype=float)/np.sqrt(N)\n",
    "\n",
    "    \n",
    "    print(\"THIS IS Y L2 NORMALIZED\")\n",
    "    print(y)\n",
    "\n",
    "    print(\"THIS IS AFTER APPLYING FWHT\")\n",
    "    print(wh_transform)\n",
    "\n",
    "    return qc"
   ]
  },
  {
   "cell_type": "code",
   "execution_count": null,
   "id": "bb463df4",
   "metadata": {},
   "outputs": [],
   "source": [
    "Qbit= QuantumRegister(num_qubits,name='logical')\n",
    "Cbit= ClassicalRegister(num_qubits,name='result')\n",
    "ancilla= QuantumRegister(3,name='anc')\n",
    "\n",
    "qc= QuantumCircuit(Qbit,ancilla,Cbit)\n",
    "#Equal Superposition\n",
    "\n",
    "\n",
    "#qc= walsh_loader(qc,Qbit,ancilla,,N)"
   ]
  },
  {
   "cell_type": "code",
   "execution_count": 86,
   "id": "c306154f",
   "metadata": {},
   "outputs": [
    {
     "data": {
      "image/png": "[encoded data removed]",
      "text/plain": [
       "<Figure size 363.409x785.944 with 1 Axes>"
      ]
     },
     "execution_count": 86,
     "metadata": {},
     "output_type": "execute_result"
    }
   ],
   "source": [
    "qc.draw('mpl')"
   ]
  },
  {
   "cell_type": "code",
   "execution_count": null,
   "id": "1e6e80fe",
   "metadata": {},
   "outputs": [],
   "source": [
    "service = QiskitRuntimeService(name=\"qiskit_adi\")\n",
    "# Get a backend\n",
    "backend = AerSimulator()\n",
    "#backend = service.least_busy(operational=True, simulator=False)\n",
    "#backend= service.backend(name='ibm_torino')\n",
    "print(f\"We are using the {backend.name} quantum computer\")\n",
    "shots= 1024\n",
    "sampler = Sampler(mode=backend)"
   ]
  },
  {
   "cell_type": "code",
   "execution_count": null,
   "id": "71b73d38",
   "metadata": {},
   "outputs": [],
   "source": []
  }
 ],
 "metadata": {
  "kernelspec": {
   "display_name": "cwq311",
   "language": "python",
   "name": "python3"
  },
  "language_info": {
   "codemirror_mode": {
    "name": "ipython",
    "version": 3
   },
   "file_extension": ".py",
   "mimetype": "text/x-python",
   "name": "python",
   "nbconvert_exporter": "python",
   "pygments_lexer": "ipython3",
   "version": "3.11.11"
  }
 },
 "nbformat": 4,
 "nbformat_minor": 5
}
