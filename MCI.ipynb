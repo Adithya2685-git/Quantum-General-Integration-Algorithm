{
 "cells": [
  {
   "cell_type": "code",
   "execution_count": 1,
   "id": "7621b0bd",
   "metadata": {},
   "outputs": [],
   "source": [
    "import sympy\n",
    "from sympy import I, re, im\n",
    "from sympy.parsing.sympy_parser import (parse_expr, standard_transformations,\n",
    "                                        implicit_multiplication_application,convert_xor)\n",
    "from IPython.display import display\n",
    "sympy.init_printing(use_latex='mathjax')\n",
    "import numpy as np\n",
    "np.set_printoptions(suppress=True)\n",
    "from qiskit import ClassicalRegister, QuantumRegister, QuantumCircuit, generate_preset_pass_manager, transpile\n",
    "from qiskit_ibm_runtime import SamplerV2 as Sampler, EstimatorV2 as Estimator, QiskitRuntimeService\n",
    "from qiskit_aer import AerSimulator\n",
    "import matplotlib.pyplot as plt"
   ]
  },
  {
   "cell_type": "code",
   "execution_count": 42,
   "id": "68bd74d2",
   "metadata": {},
   "outputs": [
    {
     "name": "stdout",
     "output_type": "stream",
     "text": [
      "Entered definite integral Mathematical expression:\n"
     ]
    },
    {
     "data": {
      "text/latex": [
       "$\\displaystyle \\int\\limits_{0}^{\\pi} \\sin{\\left(x \\right)}\\, dx$"
      ],
      "text/plain": [
       "π          \n",
       "⌠          \n",
       "⎮ sin(x) dx\n",
       "⌡          \n",
       "0          "
      ]
     },
     "metadata": {},
     "output_type": "display_data"
    }
   ],
   "source": [
    "\n",
    "func_str = input(\"Enter the smooth function to integrate (e.g., sin(x) * exp(-x)): \")\n",
    "lower_limit_str = input(\"Enter the lower limit of integration (e.g., 0): \")\n",
    "upper_limit_str = input(\"Enter the upper limit of integration (e.g., pi): \")\n",
    "\n",
    "# variables\n",
    "x = sympy.symbols('x',real=True)\n",
    "\n",
    "try:\n",
    "    # Parse inputs\n",
    "    local_dict= {'x':x, 'I':I, 'i':I}\n",
    "    global_dict= sympy.__dict__\n",
    "    transformations = standard_transformations + (implicit_multiplication_application,convert_xor)\n",
    "    \n",
    "    func_expr = parse_expr(func_str,\n",
    "                        local_dict=local_dict,\n",
    "                        global_dict=global_dict,\n",
    "                        transformations=transformations)\n",
    "\n",
    "    lower_limit = sympy.sympify(lower_limit_str)\n",
    "    upper_limit = sympy.sympify(upper_limit_str)\n",
    "\n",
    "    func= sympy.simplify(func_expr)\n",
    "\n",
    "    # Display integration expression\n",
    "    integral_expr = sympy.Integral(func_expr, (x, lower_limit, upper_limit))\n",
    "\n",
    "    print(\"Entered definite integral Mathematical expression:\")\n",
    "    display(integral_expr)\n",
    "\n",
    "except (sympy.SympifyError, SyntaxError) as e:\n",
    "    print(f\"\\nError: Could not parse the input. Please check entered expression. Details: {e}\")\n"
   ]
  },
  {
   "cell_type": "code",
   "execution_count": 39,
   "id": "68023ddf",
   "metadata": {},
   "outputs": [],
   "source": [
    "def getTaylorPolynomial(function,d,lower_limit,upper_limit):\n",
    "\n",
    "    print(f\"TAYLOR's APPROXIMATION to {d}th degree : \")\n",
    "    # point of approximation x0= a+b/2\n",
    "    x0= (upper_limit+lower_limit)/2\n",
    "\n",
    "        # 2. Check differentiability (will pass for these smooth pieces)\n",
    "    try:\n",
    "        deriv_val = sympy.diff(function, x).evalf(subs={x: x0})\n",
    "        if \"nan\" in str(deriv_val) or \"oo\" in str(deriv_val):\n",
    "            raise ValueError(\"Still not differentiable\")\n",
    "    except Exception as e:\n",
    "        print(f\"Error on interval [{lower_limit},{upper_limit}]: {e}\")\n",
    "        return None\n",
    "    \n",
    "    taylor_polynomial= sympy.series(function,x,x0,d+1).removeO()\n",
    "\n",
    "    # Display integration expression\n",
    "    integration_expr = sympy.Integral(taylor_polynomial, (x, lower_limit, upper_limit))\n",
    "    display(integration_expr)\n",
    "    return taylor_polynomial\n"
   ]
  },
  {
   "cell_type": "code",
   "execution_count": 24,
   "id": "97b9e547",
   "metadata": {},
   "outputs": [],
   "source": [
    "# Discretize func_expr\n",
    "def discretize(func,lower_limit, upper_limit,N):\n",
    "    upper_limit= float(upper_limit)\n",
    "    lower_limit= float(lower_limit)\n",
    "    \n",
    "    f_callable= sympy.lambdify(x, func, 'numpy')\n",
    "\n",
    "    # N random X points such that there are N random F(x). Sigma F(x) deltaX is integral (RIEMANN SUM)\n",
    "    x_array = np.random.uniform(lower_limit,upper_limit,N)\n",
    "    y_array= f_callable(x_array)\n",
    "   \n",
    "    return y_array,x_array "
   ]
  },
  {
   "cell_type": "code",
   "execution_count": 25,
   "id": "c27f25a3",
   "metadata": {},
   "outputs": [],
   "source": [
    "def IntegrateClassical(y,lower_limit, upper_limit,N):\n",
    "    \n",
    "    classical_iterations= np.cumsum(y, dtype= float)\n",
    "\n",
    "    # Average\n",
    "    for i in range(N):\n",
    "        classical_iterations[i]=classical_iterations[i]/(i+1)\n",
    "\n",
    "    # Integral = SIGMA f(x) delta x\n",
    "    Classical_integral= classical_iterations*(upper_limit-lower_limit)\n",
    "\n",
    "    return Classical_integral"
   ]
  },
  {
   "cell_type": "code",
   "execution_count": 35,
   "id": "c538b70b",
   "metadata": {},
   "outputs": [],
   "source": [
    "# Degree of Approximation\n",
    "d= 12\n",
    "num_qubits=13\n",
    "N=2**num_qubits"
   ]
  },
  {
   "cell_type": "code",
   "execution_count": 43,
   "id": "dd6af075",
   "metadata": {},
   "outputs": [
    {
     "name": "stdout",
     "output_type": "stream",
     "text": [
      "TAYLOR's APPROXIMATION to 12th degree : \n"
     ]
    },
    {
     "data": {
      "text/latex": [
       "$\\displaystyle \\int\\limits_{0}^{\\pi} \\left(\\frac{\\left(x - \\frac{\\pi}{2}\\right)^{12}}{479001600} - \\frac{\\left(x - \\frac{\\pi}{2}\\right)^{10}}{3628800} + \\frac{\\left(x - \\frac{\\pi}{2}\\right)^{8}}{40320} - \\frac{\\left(x - \\frac{\\pi}{2}\\right)^{6}}{720} + \\frac{\\left(x - \\frac{\\pi}{2}\\right)^{4}}{24} - \\frac{\\left(x - \\frac{\\pi}{2}\\right)^{2}}{2} + 1\\right)\\, dx$"
      ],
      "text/plain": [
       "π                                                                           \n",
       "⌠                                                                           \n",
       "⎮ ⎛       12          10          8          6          4          2    ⎞   \n",
       "⎮ ⎜⎛    π⎞     ⎛    π⎞     ⎛    π⎞    ⎛    π⎞    ⎛    π⎞    ⎛    π⎞     ⎟   \n",
       "⎮ ⎜⎜x - ─⎟     ⎜x - ─⎟     ⎜x - ─⎟    ⎜x - ─⎟    ⎜x - ─⎟    ⎜x - ─⎟     ⎟   \n",
       "⎮ ⎜⎝    2⎠     ⎝    2⎠     ⎝    2⎠    ⎝    2⎠    ⎝    2⎠    ⎝    2⎠     ⎟   \n",
       "⎮ ⎜───────── - ───────── + ──────── - ──────── + ──────── - ──────── + 1⎟ dx\n",
       "⎮ ⎝479001600    3628800     40320       720         24         2        ⎠   \n",
       "⌡                                                                           \n",
       "0                                                                           "
      ]
     },
     "metadata": {},
     "output_type": "display_data"
    },
    {
     "name": "stdout",
     "output_type": "stream",
     "text": [
      "Y Array:\n",
      "[0.90445596 0.57748978 0.74129708 ... 0.78931515 0.77096485 0.95845751]\n",
      "\n",
      "Classical Integration Answer:\n",
      "1.990641816277964\n"
     ]
    }
   ],
   "source": [
    "taylor_function= getTaylorPolynomial(func, d,lower_limit,upper_limit)\n",
    "if taylor_function!= None:\n",
    "    y, x_array=discretize(taylor_function,lower_limit,upper_limit,N)\n",
    "    answer= IntegrateClassical(y,lower_limit, upper_limit,N)\n",
    "\n",
    "    print(\"Y Array:\")\n",
    "    print(y)\n",
    "\n",
    "\n",
    "    classical_answer= float(answer[N-1])\n",
    "    print(\"\\nClassical Integration Answer:\")\n",
    "    print(classical_answer)\n",
    "else:\n",
    "    print(\"ERROR getting the polynomial\")"
   ]
  },
  {
   "cell_type": "code",
   "execution_count": 44,
   "id": "6fabb3bd",
   "metadata": {},
   "outputs": [
    {
     "data": {
      "image/png": "[encoded data removed]",
      "text/plain": [
       "<Figure size 640x480 with 1 Axes>"
      ]
     },
     "metadata": {},
     "output_type": "display_data"
    }
   ],
   "source": [
    "plt.xlabel(\"x-axis\")\n",
    "plt.ylabel(\"y-axis\")\n",
    "plt.scatter(x_array,y,\n",
    "             color='red', label='Target State',s=0.1)\n",
    "plt.grid(True)\n",
    "plt.legend()\n",
    "plt.show()"
   ]
  },
  {
   "cell_type": "code",
   "execution_count": null,
   "id": "278adaaf",
   "metadata": {},
   "outputs": [],
   "source": [
    "def walsh_loader(qc,Qbit,ancilla,y,N):\n",
    "    # Min-Max scale y\n",
    "    y= y\n",
    "    wh_transform=np.array(sympy.fwht(y), dtype=float)/np.sqrt(N)\n",
    "\n",
    "    \n",
    "    print(\"THIS IS Y L2 NORMALIZED\")\n",
    "    print(y)\n",
    "\n",
    "    print(\"THIS IS AFTER APPLYING FWHT\")\n",
    "    print(wh_transform)\n",
    "\n",
    "    return qc"
   ]
  },
  {
   "cell_type": "code",
   "execution_count": 65,
   "id": "f07b73f1",
   "metadata": {},
   "outputs": [],
   "source": [
    "def variable_Change(taylor_function,lower_limit,upper_limit):\n",
    "    \n",
    "    # Original integral: integral from a to b of f(x) dx\n",
    "    # X= 0 to 1, x = a to b      as f is uniform, X= (x-a)/b-a,   x= X(b-a)+ a\n",
    "    # dX=   dx/b-a, dx= dX* (b-a)\n",
    "    # New integral: integral from 0 to 1 of f(a + (b-a)X) * (b-a) dX\n",
    "    scaling_factor = upper_limit-lower_limit\n",
    "    scaled_taylorPoly = taylor_function.subs(x, lower_limit + scaling_factor * x) * scaling_factor\n",
    "\n",
    "    a=0\n",
    "    b=1\n",
    "\n",
    "    scaled_taylorPoly= sympy.expand(scaled_taylorPoly)\n",
    "\n",
    "    coefficients= np.array(scaled_taylorPoly.as_coefficients_dict(x))\n",
    "    print(f\"These are all the {type(coefficients)} coefficients\")\n",
    "    print(coefficients)\n",
    "\n",
    "\n",
    "    # 4. Calculate the upper bound M using the triangle inequality for scaling\n",
    "    # M = sum(|c_k| * max(|u^k|)) for u in [0, 1]. Since u is in [0, 1], max(|u^k|) is 1.\n",
    "    M = 0\n",
    "\n",
    "    \n",
    "\n",
    "\n",
    "    integral_expr = sympy.Integral(taylor_function, (x,a,b))\n",
    "    display(integral_expr)\n",
    "\n",
    "    \n",
    "    return scaled_taylorPoly, a, b"
   ]
  },
  {
   "cell_type": "code",
   "execution_count": 66,
   "id": "5763f927",
   "metadata": {},
   "outputs": [
    {
     "name": "stdout",
     "output_type": "stream",
     "text": [
      "These are all the <class 'numpy.ndarray'> coefficients\n",
      "defaultdict(<class 'int'>, {x: -pi**5/48 - pi**9/645120 - pi**13/81749606400 + pi**11/185794560 + pi**7/3840 + pi**3/2, x**2: -pi**3/2 - pi**7/768 - pi**11/20643840 + pi**13/7431782400 + pi**9/92160 + pi**5/16, x**3: -pi**5/12 - pi**9/23040 - pi**13/1114767360 + pi**11/3870720 + pi**7/288, x**4: -pi**7/192 - pi**11/1105920 + pi**13/247726080 + pi**9/9216 + pi**5/24, x**6: -pi**7/720 - pi**11/276480 + pi**13/33177600 + pi**9/5760, x**5: -pi**9/5760 - pi**13/77414400 + pi**11/460800 + pi**7/240, x**7: -pi**9/10080 - pi**13/19353600 + pi**11/241920, x**8: -pi**11/322560 + pi**13/15482880 + pi**9/40320, x**10: -pi**11/3628800 + pi**13/29030400, x**9: -pi**13/17418240 + pi**11/725760, x**11: -pi**13/79833600, x**12: pi**13/479001600, 1: -pi**3/8 - pi**7/46080 - pi**11/3715891200 + pi**13/1961990553600 + pi**9/10321920 + pi**5/384 + pi})\n"
     ]
    },
    {
     "data": {
      "text/latex": [
       "$\\displaystyle \\int\\limits_{0}^{1} \\left(\\frac{\\left(x - \\frac{\\pi}{2}\\right)^{12}}{479001600} - \\frac{\\left(x - \\frac{\\pi}{2}\\right)^{10}}{3628800} + \\frac{\\left(x - \\frac{\\pi}{2}\\right)^{8}}{40320} - \\frac{\\left(x - \\frac{\\pi}{2}\\right)^{6}}{720} + \\frac{\\left(x - \\frac{\\pi}{2}\\right)^{4}}{24} - \\frac{\\left(x - \\frac{\\pi}{2}\\right)^{2}}{2} + 1\\right)\\, dx$"
      ],
      "text/plain": [
       "1                                                                           \n",
       "⌠                                                                           \n",
       "⎮ ⎛       12          10          8          6          4          2    ⎞   \n",
       "⎮ ⎜⎛    π⎞     ⎛    π⎞     ⎛    π⎞    ⎛    π⎞    ⎛    π⎞    ⎛    π⎞     ⎟   \n",
       "⎮ ⎜⎜x - ─⎟     ⎜x - ─⎟     ⎜x - ─⎟    ⎜x - ─⎟    ⎜x - ─⎟    ⎜x - ─⎟     ⎟   \n",
       "⎮ ⎜⎝    2⎠     ⎝    2⎠     ⎝    2⎠    ⎝    2⎠    ⎝    2⎠    ⎝    2⎠     ⎟   \n",
       "⎮ ⎜───────── - ───────── + ──────── - ──────── + ──────── - ──────── + 1⎟ dx\n",
       "⎮ ⎝479001600    3628800     40320       720         24         2        ⎠   \n",
       "⌡                                                                           \n",
       "0                                                                           "
      ]
     },
     "metadata": {},
     "output_type": "display_data"
    },
    {
     "data": {
      "text/plain": [
       "CircuitInstruction(operation=Instruction(name='barrier', num_qubits=16, num_clbits=0, params=[]), qubits=(<Qubit register=(13, \"logical\"), index=0>, <Qubit register=(13, \"logical\"), index=1>, <Qubit register=(13, \"logical\"), index=2>, <Qubit register=(13, \"logical\"), index=3>, <Qubit register=(13, \"logical\"), index=4>, <Qubit register=(13, \"logical\"), index=5>, <Qubit register=(13, \"logical\"), index=6>, <Qubit register=(13, \"logical\"), index=7>, <Qubit register=(13, \"logical\"), index=8>, <Qubit register=(13, \"logical\"), index=9>, <Qubit register=(13, \"logical\"), index=10>, <Qubit register=(13, \"logical\"), index=11>, <Qubit register=(13, \"logical\"), index=12>, <Qubit register=(3, \"anc\"), index=0>, <Qubit register=(3, \"anc\"), index=1>, <Qubit register=(3, \"anc\"), index=2>), clbits=())"
      ]
     },
     "execution_count": 66,
     "metadata": {},
     "output_type": "execute_result"
    }
   ],
   "source": [
    "\n",
    "scaled_taylorPoly, a,b= variable_Change(taylor_function,lower_limit, upper_limit)\n",
    "\n",
    "\n",
    "Qbit= QuantumRegister(num_qubits,name='logical')\n",
    "Cbit= ClassicalRegister(num_qubits,name='result')\n",
    "ancilla= QuantumRegister(3,name='anc')\n",
    "\n",
    "qc= QuantumCircuit(Qbit,ancilla,Cbit)\n",
    "#Equal Superposition\n",
    "qc.h(Qbit)\n",
    "qc.barrier()\n",
    "\n",
    "#qc= walsh_loader(qc,Qbit,ancilla,,N)\n",
    "\n"
   ]
  },
  {
   "cell_type": "code",
   "execution_count": 86,
   "id": "c306154f",
   "metadata": {},
   "outputs": [
    {
     "data": {
      "image/png": "[encoded data removed]",
      "text/plain": [
       "<Figure size 363.409x785.944 with 1 Axes>"
      ]
     },
     "execution_count": 86,
     "metadata": {},
     "output_type": "execute_result"
    }
   ],
   "source": [
    "qc.draw('mpl')"
   ]
  },
  {
   "cell_type": "code",
   "execution_count": null,
   "id": "1e6e80fe",
   "metadata": {},
   "outputs": [],
   "source": [
    "service = QiskitRuntimeService(name=\"qiskit_adi\")\n",
    "# Get a backend\n",
    "backend = AerSimulator()\n",
    "#backend = service.least_busy(operational=True, simulator=False)\n",
    "#backend= service.backend(name='ibm_torino')\n",
    "print(f\"We are using the {backend.name} quantum computer\")\n",
    "shots= 1024\n",
    "sampler = Sampler(mode=backend)"
   ]
  },
  {
   "cell_type": "code",
   "execution_count": null,
   "id": "71b73d38",
   "metadata": {},
   "outputs": [],
   "source": []
  },
  {
   "cell_type": "code",
   "execution_count": null,
   "id": "ef5e214b",
   "metadata": {},
   "outputs": [],
   "source": []
  }
 ],
 "metadata": {
  "kernelspec": {
   "display_name": "cwq311",
   "language": "python",
   "name": "python3"
  },
  "language_info": {
   "codemirror_mode": {
    "name": "ipython",
    "version": 3
   },
   "file_extension": ".py",
   "mimetype": "text/x-python",
   "name": "python",
   "nbconvert_exporter": "python",
   "pygments_lexer": "ipython3",
   "version": "3.11.11"
  }
 },
 "nbformat": 4,
 "nbformat_minor": 5
}
